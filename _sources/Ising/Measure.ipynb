{
 "cells": [
  {
   "cell_type": "markdown",
   "metadata": {},
   "source": [
    "#  Measuring the Ising Model\n",
    "\n",
    "Our goal in this section will be to start measuring properties of our Ising model.  We will work with a larger system ($27 \\times 27$) on this page. *When reporting energy and magnetization squared it should always be per spin*."
   ]
  },
  {
   "cell_type": "markdown",
   "metadata": {},
   "source": [
    "## Minimal Background\n",
    "\n",
    "We can measure properties or observables of our system at a temperature $T.$  An observable $O(c)$ eats a configuration and spits out a number.  The average value of an observable is\n",
    "\n",
    "$$\\sum_c P(c) O(c)$$\n",
    "\n",
    "Three observables we will consider are the energy $E(c)$ (which we've already seen) whose average is\n",
    "\n",
    "$$\\langle E \\rangle = \\sum_c P(c) E(c) = \\sum_c \\frac{\\exp[-\\beta E(c)]}{Z} E(c) = \\sum_E P(E) E $$\n",
    "\n",
    "where $Z=\\sum_c \\exp[-\\beta E(c)]$\n",
    "Notice that this means that $P(E) = \\sum_{c\\,\\mathrm{with\\,energy}\\,E} P(c)$ \n",
    "and the  squared magnetization per spin $M^2(c)= (\\frac{1}{N} \\sum_i s_i)^2$ \n",
    "whose average\n",
    "\n",
    "$$\\langle M^2 \\rangle =  \\sum_c P(c) M(c)^2 = \\sum_{M^2} P(M^2) M^2$$\n",
    "\n",
    "Notice that this means that $P(M^2) = \\sum_{c\\,\\mathrm{with\\,squared\\,magnetization}\\,M^2} P(c)$ .\n",
    "\n",
    "> *Question to think about:*  Why do we study $\\langle m^2 \\rangle$ and not $\\langle m \\rangle$?\n",
    "\n",
    "When we measure an observable we can either compute its histogram or expectation value.\n",
    "\n"
   ]
  },
  {
   "cell_type": "markdown",
   "metadata": {},
   "source": [
    "#### Phases\n",
    "\n",
    "A **phase** of matter (like gas, liquid, solid) can be defined by an order parameter (i.e. an observable) which is zero in one phase and not zero in another phase.  A 2D Ising model has two phases: the ferromagnet (essentially all spins up) and the paramagnet (essentially all random spins).  In the paramagnet, the squared magnetization is zero in the thermodynamic limit.  The ferromagnet, the squared magnetization is not zero in the thermodynamic limit.\n",
    "\n"
   ]
  },
  {
   "cell_type": "markdown",
   "metadata": {},
   "source": [
    "#### A note about errors\n",
    "\n",
    "You can think of your Monte Carlo code as a black box that gives *correlated* samples of the magnetization. To get an average, do exactly what you're familiar with: sum the results then divide by the number of results. But further analysis involves subtleties that come with correlated data.\n",
    "\n",
    "Consider estimating the error of the previously computed average. Given uncorrelated data, the error in the mean typically quantified by the **standard error**, $\\sigma_E \\equiv \\sigma / \\sqrt{N}$, where $\\sigma$ is the standard deviation (ask python!) and $N$ is the number of datapoints. (Note: The standard deviation is essentially a measure of the spread of the data and has nothing to do with the amount of data points you have.) For correlated data, this is the wrong way to estimate error. In the correlated case you must divide the number of datapoints by a quantity called the **integrated autocorrelation time**, $\\tau$, to get the number of uncorrelated points.\n",
    "\n",
    "As an example, suppose you've generated 100 samples of the Ising model with a MCMC method which has $\\tau = 4$. A non-zero value of $\\tau$ reflects the fact that movement from one configuration to another depends on where you start; here we need four moves to reach a configuration which is plausibly uncorrelated with the starting configuration. Thus, when analyzing the error of a mean, the number of uncorrelated samples in the calculation is a mere $100/4 = 25$ samples.\n",
    "\n",
    "To compute the standard error scaled by the autocorrelation time $\\tau$, you can use the [stats.py](stats.py) script. You can do this as follows\n",
    "```\n",
    "import stats\n",
    "(mean, variance, error, autocorrelation) = stats.Stats(myNumpyArrayOfData)\n",
    "```\n",
    "The variable `error` is the standard error that properly takes into account the autocorrelation time."
   ]
  },
  {
   "cell_type": "markdown",
   "metadata": {},
   "source": [
    "--- "
   ]
  },
  {
   "cell_type": "markdown",
   "metadata": {},
   "source": [
    "## Measuring\n",
    "\n",
    "For a range of $\\beta J \\in [0.0,0.1,0.2,...,1.0]$ and $\\beta=\\infty$ (*in your code you can just use a large $\\beta$ *) compute\n",
    "* a prototypical snapshot (you can build this with `pylab.matshow()` )\n",
    "* a histogram of $P(E)$\n",
    "* the value of $\\langle E \\rangle$ (and error bar)\n",
    "* a histogram of $P(M^2)$\n",
    "* the value of $\\langle M^2 \\rangle$ (and error bar)\n",
    "\n"
   ]
  },
  {
   "cell_type": "markdown",
   "metadata": {},
   "source": [
    "```{admonition} Testing\n",
    "\n",
    "To test your results, it's important to check limits that you are able to compute in some alternative way.  In our case, it is reasonably straightforward to figure out the $\\beta=0$ and $\\beta=\\infty$ results.  These results can be figured out either analytically or writing a short five-line python code - i.e. for the $\\beta=0$ case randomly sample $27 \\times 27$ -1 and 1's and then average.  For these two limits, you should compute the histograms and average values of $\\langle M^2\\rangle$ and $\\langle E \\rangle$.\n",
    "\n",
    "\n",
    "```"
   ]
  },
  {
   "cell_type": "markdown",
   "metadata": {},
   "source": [
    ":::{admonition} Grading\n",
    ":class: caution\n",
    "\n",
    "Fill out the table in the document.  Draw vertical lines on your respective histograms where $\\langle E \\rangle$ and $\\langle M^2 \\rangle$ are  (use `axvline()`).  On your $\\beta=\\infty$ and $\\beta=0$ histogram, draw the 'testing' curvesfg on top of your Monte Carlo curve.  Also write in the table, the `testing' values you determined for $\\langle E \\rangle$ and $\\langle M^2 \\rangle$ for $\\beta = 0,\\infty$.\n",
    "\n",
    ":::"
   ]
  },
  {
   "cell_type": "markdown",
   "metadata": {},
   "source": [
    "At $\\beta=0$ (infinite temperature) every configuration is equally likely, but your energy and squared magnetization are not equally likely (see your histograms).  What this is telling you is that macroscopic observables are different from microscopic observables.\n",
    "\n",
    "If you look at your snapshot, you should see two phases.  One (at $\\beta=0$) is the paramagnetic phase.  Every configuration is equally likely.  The other phase (large $\\beta$) is the ferromagnetic phase.  Every spin should agree.\n",
    "\n",
    "*Note about domain walls:*  Maybe you are seeing domain walls? Why is that?   This is because it's very hard to move from the all-up to the all-down configuration.  This isn't a critical problem (this happens in the real world too).  You don't have to fix it but you could by adding in additional smarter moves.\n",
    "\n",
    "\n",
    "In between these two phases there is a phase transition; there is a critical point (one very specific temperature) where this happens.\n",
    "\n",
    "You now want to use this information to compute the transition location.  You should be able to roughly guess where the transition is just by looking at the prototypical snapshots.  To do a more thorough job, we are going to use the magnetization squared.  This is the order parameter for ferromagnetic phase.  When $L=\\infty$ the order parameter is non-zero in the ferromagnetic phase and zero in the paramagnetic phase.\n",
    "\n",
    "It won't be exactly this sharp in the finite system but it should still give you a good sense for the location of the transition."
   ]
  },
  {
   "cell_type": "markdown",
   "metadata": {},
   "source": [
    ":::{admonition} Grading\n",
    ":class: caution\n",
    "\n",
    "Graph $\\langle M^2\\rangle$ as a function of $\\beta$. This graph must have error bars on it. Where is the transition?  Paste these graphs into your document.\n",
    "\n",
    "\n",
    ":::"
   ]
  },
  {
   "cell_type": "markdown",
   "metadata": {},
   "source": [
    "Another way to identify the transition is to compute the specific heat\n",
    "\n",
    "$$\n",
    "C_v = \\frac{\\partial E}{\\partial T} = \\frac{\\partial E}{\\partial \\beta}\\frac{\\partial \\beta}{\\partial T} = -\\frac{1}{T^2}\\frac{\\partial E}{\\partial \\beta}\n",
    "$$\n",
    "\n",
    "and look for a peak.\n",
    "\n",
    "To compute the specific heat you can compute $\\partial E/\\partial \\beta$ by taking your $E$ vs. $\\beta$ curve and  subtracting your nearest neighbor points - i.e. `Energies[1:] - Energies[:-1]`). \n",
    "\n"
   ]
  },
  {
   "cell_type": "markdown",
   "metadata": {},
   "source": [
    ":::{admonition} Grading\n",
    ":class: caution\n",
    "\n",
    "Produce a curve of the specific heat vs. $T$.  Paste it into your document\n",
    "\n",
    ":::"
   ]
  },
  {
   "cell_type": "markdown",
   "metadata": {},
   "source": [
    ":::{admonition}  Extra Credit (5 points)\n",
    ":class: tip\n",
    "\n",
    "One thing that we haven't measured is the free energy and entropy.  In order to measure this, you need to do some additional thermodynamic integration.  Look up how to go about this and implement it computing the entropy and free energy of the Ising model as a function of temperature.  \n",
    "\n",
    ":::"
   ]
  },
  {
   "cell_type": "markdown",
   "metadata": {},
   "source": []
  }
 ],
 "metadata": {
  "kernelspec": {
   "display_name": "Python 3.9.6 64-bit",
   "language": "python",
   "name": "python3"
  },
  "language_info": {
   "codemirror_mode": {
    "name": "ipython",
    "version": 3
   },
   "file_extension": ".py",
   "mimetype": "text/x-python",
   "name": "python",
   "nbconvert_exporter": "python",
   "pygments_lexer": "ipython3",
   "version": "3.9.6"
  },
  "vscode": {
   "interpreter": {
    "hash": "31f2aee4e71d21fbe5cf8b01ff0e069b9275f58929596ceb00d14d90e3e16cd6"
   }
  }
 },
 "nbformat": 4,
 "nbformat_minor": 4
}
