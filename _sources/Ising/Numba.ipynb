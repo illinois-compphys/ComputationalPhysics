{
 "cells": [
  {
   "cell_type": "markdown",
   "metadata": {},
   "source": [
    "# Speeding Up Your Python Code With Numba"
   ]
  },
  {
   "cell_type": "markdown",
   "metadata": {},
   "source": [
    "Python is slow partially because it is not being compiled - i.e. it is an interpretive language.  One solution to this is to compile it. Unfortunately, it's difficult to compile everything that one can do in python.  That said, there are ways to compile functions that use a subset of python.  One tool that allows you to do that is [numba](https://numba.pydata.org/)\n",
    "\n",
    "Here we will see how to use numba to compile an important subset of functions which will then allow our code to run significantly faster.   Include numba by doing `import numba`"
   ]
  },
  {
   "cell_type": "markdown",
   "metadata": {},
   "source": [
    "The key trick to use numba is to add `@njit` on top of functions that you want it to compile - i.e. \n",
    "\n",
    "```\n",
    "@njit\n",
    "def myPreviouslySlowFunction(beta, Nx, Ny):\n",
    "  # here I am doing stuff\n",
    "  return myAnswer\n",
    "```\n",
    "\n",
    "will now be compiled (just in time - jit) when you run the program and so, if you call it many times, this will significantly speed up your simulation.  This is especially the case if your function has `for` loops in it. \n",
    "\n",
    "Three useful hints here:\n",
    "* There are some things that numba doesn't like to compile  - objects, named parameters in functions, etc.  If you try to run it and it complains that it is not happy compiling it, try to (1) change out the things it is unhappy about and (2) see if you can factor out the slow parts into smaller functions that don't do the disallowed things\n",
    "\n",
    "* If you're compiling a function, you probably also want to compile the functions it calls.  So generally I start by getting the innermost functions compiling and then work outwards from there. \n",
    "\n",
    "* The trick with optimization is to first get something working and then speed up the things that are slow.  Work one step at a time and don't worry about making everything fast.  Most things don't matter. "
   ]
  },
  {
   "cell_type": "markdown",
   "metadata": {},
   "source": [
    "## Numba for the Ising Model"
   ]
  },
  {
   "cell_type": "markdown",
   "metadata": {},
   "source": [
    "I ended up needing to do the following to get numba to significantly speed up my Ising model. Currently your code probably looks something like this:\n",
    "\n",
    "```python\n",
    "def deltaE(spins,flipX,flipY):\n",
    "    # do stuff\n",
    "    return change_in_energy\n",
    "\n",
    "def Energy(spins):\n",
    "    # do stuff\n",
    "    return myEnergy\n",
    "\n",
    "for sweep in range(0,10000):\n",
    "    for step in range(0,N):\n",
    "        #flip spins\n",
    "    # measure \n",
    "```\n",
    "\n",
    "I did the following.  I got it to compile my deltaE and Energy functions.  I then pulled out that `for` loop over steps and turned it into a `Sweep` function and also had it compile that.  Later on in the assignment I also compiled the `coarse_grain` function which returns the coarse-grained lattice.  So I had\n",
    "\n",
    "```python\n",
    "@njit\n",
    "def deltaE(spins,flipX,flipY):\n",
    "    # do stuff\n",
    "    return change_in_energy\n",
    "\n",
    "@njit\n",
    "def Energy(spins):\n",
    "    # do stuff\n",
    "    return myEnergy\n",
    "@njit\n",
    "def Sweeps(spins):\n",
    "    for step in range(0,N):\n",
    "    #flip spins\n",
    " \n",
    "for sweep in range(0,10000):\n",
    "    Sweep(spins)\n",
    "    # measure \n",
    "```\n",
    "\n",
    "This was sufficient for me to be able to do approximately 10,000 sweeps on an $81 \\times 81$ lattice in about ten seconds on google colab. "
   ]
  },
  {
   "cell_type": "markdown",
   "metadata": {},
   "source": []
  }
 ],
 "metadata": {
  "kernelspec": {
   "display_name": "Python 3.9.6 64-bit",
   "language": "python",
   "name": "python3"
  },
  "language_info": {
   "codemirror_mode": {
    "name": "ipython",
    "version": 3
   },
   "file_extension": ".py",
   "mimetype": "text/x-python",
   "name": "python",
   "nbconvert_exporter": "python",
   "pygments_lexer": "ipython3",
   "version": "3.9.6"
  },
  "orig_nbformat": 4,
  "vscode": {
   "interpreter": {
    "hash": "31f2aee4e71d21fbe5cf8b01ff0e069b9275f58929596ceb00d14d90e3e16cd6"
   }
  }
 },
 "nbformat": 4,
 "nbformat_minor": 2
}
