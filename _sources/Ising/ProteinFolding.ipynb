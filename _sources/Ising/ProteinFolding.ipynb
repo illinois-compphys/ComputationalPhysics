{
 "cells": [
  {
   "cell_type": "markdown",
   "id": "9a1d8379",
   "metadata": {},
   "source": [
    "# Protein Folding"
   ]
  },
  {
   "cell_type": "markdown",
   "id": "15b4c776",
   "metadata": {},
   "source": [
    ":::{admonition} Extra Credit \n",
    ":class: tip\n",
    "\n",
    "This page is **10 points extra credit**\n",
    "\n",
    ":::"
   ]
  },
  {
   "cell_type": "markdown",
   "id": "2b5ab4ea",
   "metadata": {},
   "source": [
    "**References:** https://en.wikipedia.org/wiki/Hydrophobic-polar_protein_folding_model"
   ]
  },
  {
   "cell_type": "markdown",
   "id": "84bf7275",
   "metadata": {},
   "source": [
    "In this section, we would like to do simulated annealing on protein folding.  A protein has 20 different amino acids.  A reasonable minimal model is to simplify this by assuming that there are only two types of amino acids:\n",
    "* H <-- a hydrophobic amino acid \n",
    "* P <-- a hydrophillic amino acid\n",
    "\n",
    "It turns out that this is the most fundamental physics driving the protein folding: whether the amino acid is hydrophobic or hydrophillic.  The hydrophobic amino acids try to be near other hydrophobic amino acids (and therefore implicitly not near the water). \n",
    "\n",
    "The sequence for a protein might be a sequence like this:\n",
    "```\n",
    "phhhphpphhpphhphhphppphhphphhhp\n",
    "```\n"
   ]
  },
  {
   "cell_type": "markdown",
   "id": "421b15f6",
   "metadata": {},
   "source": [
    "We are going to imagine that our protein folds on a square grid. Here is an example of the above folded protein with orange circles around the nearest-neighbor hydrophobic amino acids. "
   ]
  },
  {
   "cell_type": "markdown",
   "id": "fd234d13",
   "metadata": {},
   "source": [
    "![protein1.png](images/protein1b.png)"
   ]
  },
  {
   "cell_type": "markdown",
   "id": "ed530e62",
   "metadata": {},
   "source": [
    "We will assign an energy to each folded protein:\n",
    "* each hydrophobic amino acid that is near each other but not connected (i.e. the orange circles) contributes an energy of -1\n",
    "* every amino acid which is on top of each other (none in the image above) contribute 300 to the energy.  This is essentially just to forbid the protein from folding in such a way that the amino acids are on top of each other but making the energy large. \n",
    "\n",
    "The energy of the protein above is -7."
   ]
  },
  {
   "cell_type": "markdown",
   "id": "5f01995f",
   "metadata": {},
   "source": [
    "To describe the folding of the protein we can imagine that we start at the upper left of the picture above and then describe whether we are going to go **r**ight, **l**eft, or **f**orward. Notice that the first bond goes right.  Then the second and third bond makes a right turn and the fourth bond makes a left turn.  This lets us describe the state of a folded protein by a string of r,l, and f.  For example, the folded protein above corresponds to the following string:\n",
    "\n",
    "```\n",
    "rrrllfrrffllrflrllrflffllfrfrr\n",
    "```\n",
    "\n",
    "\n",
    "\n",
    "\n"
   ]
  },
  {
   "cell_type": "markdown",
   "id": "f3d58005",
   "metadata": {},
   "source": [
    "To write a simulated annealing program, we will need two ancillary functions:\n",
    "\n",
    "* `StateToCoords(state)` which takes a state (i.e. `rrrllf...`) and returns the coordinates.  I found that the easiest way to do this is to first convert it to absolute directions (i.e. `rdldrrdllldrddrdrurruuulddllur` for the above protein) and then to the coordinates.  Once you have this, then you should be able to draw it easily (write a `DrawMe(protein,coords)` function).  \n",
    "\n",
    "* `Energy(coords,protein)` which takes the coords and the protein and returns the energy. \n",
    "\n",
    "Go ahead and write these two functions.  "
   ]
  },
  {
   "cell_type": "markdown",
   "id": "28777535",
   "metadata": {},
   "source": [
    ":::{admonition} Grading\n",
    ":class: caution\n",
    "\n",
    "Write and use these functions on the protein with the folding sequence above.  Go ahead and also draw it.  Show that you get an energy of -7 and a folded protein that looks like above.\n",
    "\n",
    ":::"
   ]
  },
  {
   "cell_type": "markdown",
   "id": "9bd120a4",
   "metadata": {},
   "source": [
    "Now we would like to minimize the energy of a protein using simulated annealing.  To do this, you can write an markov chain (like the Ising model) which samples a folded protein sequence $f$ with probability proportional to $\\exp[-\\beta Ef)]$.    \n",
    "\n",
    "To change your configuration (the equivalent of a spin-flip) is to pick a site and then randomly choose r,l, or f for that site. \n",
    "\n",
    "Once you have a working markov chain, do simulated annealing by picking a temperature schedule and try to generate the folding sequence to minimize the energy.  \n",
    "\n",
    "\n",
    ":::{admonition} Grading\n",
    ":class: caution\n",
    "\n",
    "Perform simulated annealing on the following proteins: \n",
    "* phhhpphhphpphpphhhhpphhhhppphhp\n",
    "* ppphphpppphpphppphpphhhppphphpp\n",
    "\n",
    "\n",
    "Plot your energy as a function of $\\beta$ (the final energy at each $\\beta$ you use.\n",
    "\n",
    "Report the lowest energy you find and plot the final proteins.  \n",
    "\n",
    "We find energies of \n",
    "* -38 \n",
    "* -8\n",
    "\n",
    "Can you match or get lower then our energies?\n",
    ":::\n"
   ]
  },
  {
   "cell_type": "markdown",
   "id": "b71297bf",
   "metadata": {},
   "source": [
    ":::{admonition} Extra Credit :class: tip\n",
    "**5 points extra credit**\n",
    "\n",
    "Here is a challenging and much longer protein to fold:\n",
    "```\n",
    "hphhpppphhhhhhhhphpphpphphhpppppphhhpppphhppppphppphhphhhpppppphphhphphhphhhphphhphphhhhhphphhpphhhhhpphhphphphhhpphpphppphpphhhhppphhpppphpphhhphhphhpphhphhhphphpphpphphhpphhhphphppppphhphpphphphhhppppphhhpphphpphhhphhhphhhhpphpphphpppphhphhhhphpphpphhphppphhpphhphhhphpphphhphhpphhhhphhpphhhhpphhphhhhppphppppppphphhhhhpphphhphhppppphhhhphphhhppppphpppphphpphhppphhphhhhphpphhphhhphpppphphphpphhhhphhhhphphhphhppphhphphhphphphhhhphppphphphpphpphhphhphppphhphhhphpppphphphhhphhppphphpppppphhpphhhpphphhhhhphhphphphhphpphhhhphphhpphphppphhphhhhphpppphhhpphhpphppphhhhphhppphhhppphhhphphhhhphpppphpphhphhpphhppppphhhhhpphpphphphphphphphpphhppppphhppphhhppppphpphphhhhhppphhppppppppphhpphhphpppphhhhhhhhphhhpphphhhhhphhphpphppphhphhhhhphhhpphhpphhphppphphhhhhhhpphpphhphppphpphhpphphpppphphhppphpppphhhphhhphppphpphhhhpppphpppppppphhphpppppphppppphpphpphhppphphppphhphppphphhphhphpppphhhpphpphhphppphpphppphhphhhhhpppphhphphhhphphppphphhhpphhphhhhhphphppphhhpphhphhhphhhphpphphppppphhphphhhhphhpphphpphh\n",
    "```\n",
    "\n",
    "\n",
    "The energy we get is -682\n",
    "\n",
    "\n",
    "You get the 5 points if you get within 10% of our energy (or better!)\n",
    "\n",
    "Report your energy, a matshow of your fold, and the folding sequence in your document.\n",
    "\n",
    "\n",
    "![protein2.png](images/protein2.png)\n",
    "\n",
    ":::"
   ]
  },
  {
   "cell_type": "code",
   "execution_count": null,
   "id": "420bb331",
   "metadata": {},
   "outputs": [],
   "source": []
  }
 ],
 "metadata": {
  "kernelspec": {
   "display_name": "Python 3 (ipykernel)",
   "language": "python",
   "name": "python3"
  },
  "language_info": {
   "codemirror_mode": {
    "name": "ipython",
    "version": 3
   },
   "file_extension": ".py",
   "mimetype": "text/x-python",
   "name": "python",
   "nbconvert_exporter": "python",
   "pygments_lexer": "ipython3",
   "version": "3.9.6"
  }
 },
 "nbformat": 4,
 "nbformat_minor": 5
}
