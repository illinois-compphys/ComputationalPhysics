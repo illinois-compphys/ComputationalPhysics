{
 "cells": [
  {
   "cell_type": "markdown",
   "metadata": {},
   "source": [
    "# Speeding Up Your Code (especially python)"
   ]
  },
  {
   "cell_type": "markdown",
   "metadata": {},
   "source": [
    "To speed up your python code, what you want to do is avoid having a for-loop over steps; instead you should work with many of the spins at once."
   ]
  },
  {
   "cell_type": "markdown",
   "metadata": {},
   "source": [
    "### Heat Bath \n",
    "\n",
    "Before we do this, though, we need to make a minor change to the Monte Carlo move we are making (otherwise we accidentally get a pathological Markov Chain)\n",
    "\n",
    "Our current move is \n",
    "* pick a random spin\n",
    "* consider flipping it\n",
    "\n",
    "We are going to switch to another move - the **heat bath** move.  \n",
    "* Pick a random spin (say spin $i$)\n",
    "* Consider \n",
    "    * making it spin-up with probability $\\frac{\\exp[-\\beta E(...\\uparrow_i,...)]}{\\exp[-\\beta E(...\\uparrow_i,...)]+\\exp[-\\beta E(...\\downarrow_i,...)}$\n",
    "    * making it spin-down with probability $\\frac{\\exp[-\\beta E(...\\downarrow_i,...)]}{\\exp[-\\beta E(...\\uparrow_i,...)]+\\exp[-\\beta E(...\\downarrow_i,...)}$\n",
    "\n",
    "Notice that this move doesn't actually care what the current spin was!  This means sometimes you are going to replace a configuration with the same configuration.  (If you think for a minute you can convince yourself that if you're considering doing this, you accept it with probability one). \n",
    " \n",
    "When we do this we need to be a little careful with the acceptance probability.  When we were flipping a spin, $T(c\\rightarrow c') = T(c' \\rightarrow c) =1/N$ and the ratio of the $\\frac{T(c' \\rightarrow c)}{T(c \\rightarrow c')}=1$. Therefore it didn't come into the acceptance probability.\n",
    "\n",
    "In the new move, let's assume we are moving from \n",
    "* our current configuration $c = \\{...\\downarrow_i...\\}$ to\n",
    "* our new configuration $c' = \\{...\\uparrow_i...\\}$\n",
    "\n",
    "Then we find that \n",
    "* $T(c \\rightarrow c')=(1/N) \\frac{\\exp[-\\beta E(...\\uparrow_i,...)]}{\\exp[-\\beta E(...\\uparrow_i,...)]+\\exp[-\\beta E(...\\downarrow_i,...)}$ (since this is the probability of choosing spin-up) and \n",
    "* $T(c' \\rightarrow c)=(1/N) \\frac{\\exp[-\\beta E(...\\downarrow_i,...)]}{\\exp[-\\beta E(...\\uparrow_i,...)]+\\exp[-\\beta E(...\\downarrow_i,...)}$.  \n",
    "\n",
    "Therefore, the ratio\n",
    "\n",
    "$$\\frac{T(c' \\rightarrow c)}{T(c \\rightarrow c')} = \\frac{\\exp[-\\beta E(...\\downarrow_i,...)]}{\\exp[-\\beta E(...\\uparrow_i,...)]}$$\n",
    "\n",
    "But our ratio of Boltzmann factors gives us \n",
    "$$\\frac{\\pi(c')}{\\pi(c)} = \\frac{\\pi(\\{...\\uparrow_i...\\})}{\\pi(\\{...\\downarrow_i...\\})} = \\frac{\\exp[-\\beta E(...\\uparrow_i,...)]}{\\exp[-\\beta E(...\\downarrow_i,...)]}$$\n",
    "\n",
    "Therefore the total acceptance ratio (the product of these two terms) \n",
    "\n",
    "$$\\frac{T(c' \\rightarrow c)}{T(c \\rightarrow c')} \\frac{\\pi(c')}{\\pi(c)} =1   $$\n",
    "\n",
    "Therefore, we accept 100% of the moves that we consider (although this isn't as good as it sounds because some of that time we are accepting a move that doesn't do anything).\n",
    "\n",
    "If you do a little bit of algebra, you can rewrite this entire move so that the probability you flip your spin (i.e. the probability you compare to a random number) is $(1+1/\\exp(-\\beta \\Delta E))^{-1}$ where $\\Delta E$ is the energy difference between your current configuration and the one with the spin-flipped.   **Replace your acceptance criterion with this new criterion. This should be the only change you need.  Verify you get the same answers.**\n"
   ]
  },
  {
   "cell_type": "markdown",
   "metadata": {},
   "source": [
    "### Many Spins At Once\n",
    "\n",
    "Let's consider the $7 \\times 7$ lattice.  Which spins can we flip simultaneously?   \n",
    "\n",
    "![graph.png](images/grid_color.png)\n",
    "\n",
    "\n",
    "We can consider flipping all of the red squares at once, because the red squares aren't neighbors of any other red squares (even with the periodic boundary conditions) and so if we flip them all at one time, there isn't going to be any conflicts. The same is true of the blue, yellow, and green colors (the yellow and green exist to deal with the boundary conditions and the odd-size lattice).\n",
    "\n",
    "In python, we can access all the colors by doing\n",
    "```python\n",
    "# This is for a L x L lattice\n",
    "x,y=np.indices((L,L))\n",
    "red=np.logical_and((x+y) % 2==0   , np.logical_and(x<L-1,y<L-1))\n",
    "red[L-1,L-1]=True\n",
    "blue=np.logical_and((x+y) % 2==1   , np.logical_and(x<L-1,y<L-1))\n",
    "green=np.logical_and((x+y) % 2==0   , np.logical_or(x==L-1,y==L-1))\n",
    "green[L-1,L-1]=False\n",
    "yellow=np.logical_and((x+y) % 2==1   , np.logical_or(x==L-1,y==L-1))\n",
    "```\n",
    "\n",
    "For each color (say red as an example)\n",
    "* write a function that computes the $\\Delta E$ for all the red spins without using any for-loops.   Two things you might find useful here are that `spins[red]` will access all the red spins.  In addition, `np.roll(spins,1,axis=0)` will return an array where all the spins are rolled over to the right. \n",
    "* After calling this function, write one line of python that returns an array which says which red spins should be flipped.\n",
    "* Write one line of python which flips just those spins. \n",
    "\n",
    "\n",
    "Just to give a sense, this is how long my version of the naive python code and the efficient python code take for 1000 sweeps:\n",
    "```\n",
    "Slow Code Wall time: 1min 20s\n",
    "Efficient Code Wall time: 1.06 s\n",
    "```"
   ]
  },
  {
   "cell_type": "markdown",
   "metadata": {},
   "source": []
  },
  {
   "cell_type": "markdown",
   "metadata": {},
   "source": []
  }
 ],
 "metadata": {
  "kernelspec": {
   "display_name": "Python 3.9.6 64-bit",
   "language": "python",
   "name": "python3"
  },
  "language_info": {
   "codemirror_mode": {
    "name": "ipython",
    "version": 3
   },
   "file_extension": ".py",
   "mimetype": "text/x-python",
   "name": "python",
   "nbconvert_exporter": "python",
   "pygments_lexer": "ipython3",
   "version": "3.9.6"
  },
  "orig_nbformat": 4,
  "vscode": {
   "interpreter": {
    "hash": "31f2aee4e71d21fbe5cf8b01ff0e069b9275f58929596ceb00d14d90e3e16cd6"
   }
  }
 },
 "nbformat": 4,
 "nbformat_minor": 2
}
