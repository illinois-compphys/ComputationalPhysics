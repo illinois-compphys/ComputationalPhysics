{
 "cells": [
  {
   "cell_type": "markdown",
   "id": "5e185b53",
   "metadata": {},
   "source": [
    "# Sand"
   ]
  },
  {
   "cell_type": "markdown",
   "id": "83c8aca0",
   "metadata": {},
   "source": [
    ":::{admonition} Extra Credit \n",
    ":class: tip\n",
    "\n",
    "This page is **20 points extra credit**\n",
    "\n",
    ":::"
   ]
  },
  {
   "cell_type": "markdown",
   "id": "17fa9142",
   "metadata": {},
   "source": [
    "On this page you will simulate a model of sand building up on a table (and the resulting avalanches that it causes).\n",
    "\n",
    "In this model, sand will be placed on a table which has $N \\times N$ spaces for granules of sand.  The granules of sand can be stacked up into columns.  Once a column becomes larger then or equal to $k$ granules high, 4 granules of sand slide off the pile with one granule ending up on each of the four neighbors.  If the column of sand is on the edge of the table without four neighbors it still ends up with 4 less pieces of sand;  the extra sand just falls off the table.\n",
    "\n",
    "For the first part of this problem, we are going to have sand rain from the sky onto random spots on the table.  \n",
    "\n",
    "This gives us essentially a cellular automata with four rules:\n",
    "* Choose a random spot on the table and add a new piece of sand\n",
    "* While some column of sand has $\\geq k$ pieces: \n",
    "    * choose a random such column and replace it with $k-4$ pieces of sand and increase the sand on each of its neighbors by one. \n",
    "\n",
    "\n",
    "This is not only a cellular automata but also a markov chain (the probability of a new configuration is independent of anything but the current configuration).\n",
    "\n",
    "Write a simulation which performs this cellular automata. Use $N=25$ and $k=4$.\n",
    "\n",
    "\n",
    ":::{admonition} Grading\n",
    ":class: caution\n",
    "\n",
    "Measure the following two properties using a [window averaging](https://en.wikipedia.org/wiki/Moving_average) of 100 steps:\n",
    "* the number of pieces of sand as a function of time. \n",
    "* the size (number of columns of sand involved) of each avalanch as a function of time. \n",
    "* a snapshot of the sand in equilibrium (i.e. after 1000 steps).\n",
    "\n",
    "\n",
    "::: \n",
    "\n",
    "You should get results that look something like this:\n",
    "\n",
    "![sand1.png](images/sand1.png)\n",
    "\n"
   ]
  },
  {
   "cell_type": "markdown",
   "id": "972ff2c8",
   "metadata": {},
   "source": []
  },
  {
   "cell_type": "markdown",
   "id": "50efebd2",
   "metadata": {},
   "source": [
    "\n",
    ":::{admonition} Grading\n",
    ":class: caution\n",
    "\n",
    "\n",
    "Also choose a single prototype avalanch (preferably a large one) and visualize it. \n",
    "\n",
    "\n",
    "You should see something like this\n",
    "\n",
    "![sand2.png](images/sand2.png)\n",
    "\n",
    "\n",
    "(it would be fun to turn this into a video - it shouldn't be too hard if you look up how animations work in pylab)\n",
    "\n",
    ":::\n",
    "\n"
   ]
  },
  {
   "cell_type": "markdown",
   "id": "a32b289e",
   "metadata": {},
   "source": [
    "The number of avalanches actually follow a power law - i.e. the probability of an avalanch goes as $s^{-b}$ where $s$ is the size (number of columns of sand which avalanch) of the avalanch.  You should attempt to figure out the exponent $b$. The trick to do this is to look at the size $s$ versus the number of such avalanches on a log-log plot. The slope will be $-b$.  \n",
    "\n",
    "My graph looks like this:\n",
    "\n",
    "![sand3.png](images/sand3.png)"
   ]
  },
  {
   "cell_type": "markdown",
   "id": "bc414795",
   "metadata": {},
   "source": [
    "**I should have labelled these axis as log(# of avalanches of a given size) vs log(size - i.e. # of columns of sand involved in avalanch)**"
   ]
  },
  {
   "cell_type": "markdown",
   "id": "d2134148",
   "metadata": {},
   "source": [
    ":::{admonition} Grading\n",
    ":class: caution\n",
    "\n",
    "Produce this plot and compute $b$\n",
    "\n",
    ":::"
   ]
  },
  {
   "cell_type": "markdown",
   "id": "35af1ab3",
   "metadata": {},
   "source": [
    "Another interesting thing to do with this automata is, instead of having sand rain from the sky, just start with a large lattice (say 200x200) with an extremely tall pile of grains on the center pixel (say 32,767 grains) and just let the avalanches happen. You will reach a fixed point.  "
   ]
  },
  {
   "cell_type": "markdown",
   "id": "f99ef1a1",
   "metadata": {},
   "source": [
    ":::{admonition} Grading\n",
    ":class: caution\n",
    "\n",
    "Visualize this plot. It should look something like this:'\n",
    "\n",
    "![sand4.png](images/sand4.png)\n",
    "\n",
    ":::"
   ]
  },
  {
   "cell_type": "markdown",
   "id": "9c2a2c5b",
   "metadata": {},
   "source": [
    "Not graded but You can also go ahead and do a sand-pile model for 1-dimension instead of 2-dimensions.  In many ways this is easier to visualize. "
   ]
  },
  {
   "cell_type": "markdown",
   "id": "d4f4d3dd",
   "metadata": {},
   "source": [
    "## Video\n",
    "<iframe id=\"kmsembed-1_76xdyuc5\" width=\"640\" height=\"394\" src=\"https://mediaspace.illinois.edu/embed/secure/iframe/entryId/1_76xdyuc5/uiConfId/26883701/st/0\" class=\"kmsembed\" allowfullscreen webkitallowfullscreen mozAllowFullScreen allow=\"autoplay *; fullscreen *; encrypted-media *\" referrerPolicy=\"no-referrer-when-downgrade\" sandbox=\"allow-downloads allow-forms allow-same-origin allow-scripts allow-top-navigation allow-pointer-lock allow-popups allow-modals allow-orientation-lock allow-popups-to-escape-sandbox allow-presentation allow-top-navigation-by-user-activation\" frameborder=\"0\" title=\"Physics 446: Cellular Automata Sand\"></iframe>"
   ]
  },
  {
   "cell_type": "code",
   "execution_count": null,
   "id": "12b57fe2",
   "metadata": {},
   "outputs": [],
   "source": []
  }
 ],
 "metadata": {
  "kernelspec": {
   "display_name": "Python 3 (ipykernel)",
   "language": "python",
   "name": "python3"
  },
  "language_info": {
   "codemirror_mode": {
    "name": "ipython",
    "version": 3
   },
   "file_extension": ".py",
   "mimetype": "text/x-python",
   "name": "python",
   "nbconvert_exporter": "python",
   "pygments_lexer": "ipython3",
   "version": "3.9.13"
  }
 },
 "nbformat": 4,
 "nbformat_minor": 5
}
