{
 "cells": [
  {
   "cell_type": "markdown",
   "metadata": {},
   "source": [
    "# Training your RBM on MNIST\n",
    "\n",
    "\n",
    "In this section we will use our RBM code to tackle a more realistic and difficult engineering task: learning hand-written digits. This is a very standard test in the machine learning community. A good reference for RBM training can be found [here](https://www.cs.toronto.edu/~hinton/absps/guideTR.pdf).\n",
    "\n",
    "\n",
    "After training, your RBM will have learned some general features of hand-written digits and be able to generate its own convincing drawings of numbers. In addition to being used as a generative model, a trained RBM can also be useful for anomaly detection, for example, checking if a particular image is likely to be from the data distribution or from another distribution. In our case, that means that $p(v_{digit}) \\gg p(v_{letter})$ for our RBM if $v_{digit}$ is an image of a hand-written digit and $v_{letter}$ is an image of a hand-written letter. RBMs can also be used as \"feature-detectors\" that supplement supervised learning methods in machine learning.\n",
    "\n",
    "## MNIST Dataset\n",
    "\n",
    "The training data set that we will use to train our RBM is the MNIST database. The MNIST hand-written digit [database](http://yann.lecun.com/exdb/mnist/) is a dataset of images and labels. Each image is a picture of a hand-written number between $0$ and $9$. The label indicates which of these numbers the image corresponds to. Since we are doing *unsupervised learning*, we will ignore the labels and only use the images of the digits themselves as our training data set for the RBM.\n",
    "\n",
    "The easiest way to get the data is to do the following:\n",
    "```\n",
    "import torch\n",
    "import torch.utils.data\n",
    "batch_size = 1\n",
    "train_loader = torch.utils.data.DataLoader(\n",
    "datasets.MNIST('./data',\n",
    "    train=True,\n",
    "    download = True,\n",
    "    transform = transforms.Compose(\n",
    "        [transforms.ToTensor()])\n",
    "     ),\n",
    "     batch_size=batch_size\n",
    ")\n",
    "myData=[]\n",
    "for idx, (data,target) in enumerate(train_loader):\n",
    "  myData.append(np.array(data.view(-1,784)).flatten())\n",
    "print(myData[0])\n",
    "print(np.shape(myData[0]))\n",
    "myData=np.matrix(myData)\n",
    "\n",
    "```\n",
    "\n",
    "Let's get a little bit familiar with this data.\n",
    "\n",
    "Each row of myData is 784 numbers which can be reshaped into a 28x28 array which looks like the handwritten number.  For example, if we do \n",
    "\n",
    "```\n",
    "pic=np.copy(myData[0,:])\n",
    "pic=pic.reshape((28,28))\n",
    "plt.matshow(pic)\n",
    "plt.show()\n",
    "```\n",
    "should give you a picture of a written number.  We are regularly going to want to look at a whole grid of written numbers.\n",
    "\n",
    "\n",
    ":::{admonition} Grading\n",
    ":class: caution\n",
    "\n",
    "Write a function `PlotMe(data)` which takes a $64 \\times 784$ array of numbers (i.e. `PlotMe(myData[0:64,:])` and makes an $8\\times 8$  grid of numbers.   It should look something like\n",
    "\n",
    "\n",
    "![NumberGrid](images/numberGrid.png)\n",
    "\n",
    ":::\n",
    "\n",
    "If you print out `myData` you will see that the data is a number between 0 and 1.  Because we are working with spins, we would like to convert each number to either be zero or one. To do this, every time you use the data as part of your RBM (i.e. to set the spins), convert the number $p$ into 1 with probability $p$ and 0 otherwise. \n",
    "\n",
    "**Your RBM for this part of the assignment needs to be using 1 and 0 as its spin values not 1 and -1. I have spent many hours tracking down the bug in my assignment where I was using 1 and -1**\n",
    "\n",
    "\n"
   ]
  },
  {
   "cell_type": "markdown",
   "metadata": {},
   "source": [
    "## Parameters\n",
    "\n",
    "* eta=0.1\n",
    "* M=64\n",
    "* nv = 768\n",
    "* nh = 10 (initially); you may eventually want to test nh=400\n",
    "* Initialize the weights $W_{ij}$ and the visible biases $a_i$ with random numbers from a uniform distribution between $-0.01$ and $0.01$. **Initialize the hidden biases $b_j$ to zero.** (It seems that the training can get stuck in a bad local minimum if you initialize the hidden biases to be too large.)\n",
    "\n",
    "\n",
    "If you have set this up correctly, I find that if use $n_h=10$ it should take 20 seconds per epoch (on google colab) and $n_h=400$ should take 80 seconds per epoch.  "
   ]
  },
  {
   "cell_type": "markdown",
   "metadata": {},
   "source": [
    "---- "
   ]
  },
  {
   "cell_type": "markdown",
   "metadata": {},
   "source": [
    "## Analyze your results"
   ]
  },
  {
   "cell_type": "markdown",
   "metadata": {},
   "source": [
    "We will now analyze our results."
   ]
  },
  {
   "cell_type": "markdown",
   "metadata": {},
   "source": [
    "### Reconstruction\n",
    "\n",
    "The simplest test to see what your RBM is do a reconstruction of the data.  In other words, once you have a paramaterized RBM go ahead and set the visible spins to be some data - i.e.  `visible=np.copy(myData[0:64,:])`.  Then use the function `PlotMe(visible)` above to plot these spins.  They will definitely look good because you're just looking at the data.  Now, go ahead and do a single `SampleHidden` and `SampleVisible`.  This will change the visible spins completely based on the hidden spins (that were generated from the visible spins). Because the Markov chain hasn't had a long time to walk away, you should see roughly the same letters but with some non-trivial noise. \n",
    "\n",
    "We can remove some of this noise by returning the probability of the visible spins (given the hidden spins) instead of just one sample.  This is actually equivalent to sampling the visible spins many different times over the same hidden spins and then averaging them.  Write a function `SampleVisibleProb` which returns not a sample of the visible spins but their probability distribution.  Make a grid of this data using `PlotMe(visible)` as well.  It should look much better. \n",
    "\n",
    ":::{admonition} Grading\n",
    ":class: caution\n",
    "\n",
    "\n",
    "Paste these three plots into your document. \n",
    "\n",
    ":::"
   ]
  },
  {
   "cell_type": "markdown",
   "metadata": {},
   "source": [
    "A place where reconstruction is potentially useful is in recalling a memory similar to what was done in the Hopfield network.   Take your RBM and drop half your visible spins.  Then see if you sample the hidden and visible spins if you get back the original value. \n",
    "\n",
    ":::{admonition} Grading\n",
    ":class: caution\n",
    "\n",
    "Report on what you get under this approach. \n",
    "\n",
    "\n",
    ":::"
   ]
  },
  {
   "cell_type": "markdown",
   "metadata": {},
   "source": [
    "### Resampling "
   ]
  },
  {
   "cell_type": "markdown",
   "metadata": {},
   "source": [
    "In practice, the RBM should not only be able to reconstruct the letters after one Gibbs sample but also a sample from the entire Markov chain should give you the same distribution of letters that you started with.   This requires a lot more training (and possible larger number of hidden spins).    You can test this by sampling back and forth a lot (~10000) of times.  An intermediate is to go back and forth about 100 times which lets you leave the current numbers further behind but still give you a sample of new numbers.  You again might want to average over all the hidden spins.  (*When I do this I get numbers but don't get the distribution I started out with.  You should just report that you got some numbers but if you manage to pull off an optimization that gets the right distribution let me know how you did it*)\n",
    "\n",
    ":::{admonition} Grading\n",
    ":class: caution\n",
    "\n",
    "Plot the resampled distribution that you get by running your Markov chain 1000 times.  You should report both the `SampleVisible` and `SampleVisibleProb` results for your very last sample (all others need to be `SampleVisible`). \n",
    "\n",
    ":::"
   ]
  },
  {
   "cell_type": "markdown",
   "metadata": {},
   "source": [
    "### Weights\n",
    "\n",
    "Visualize the weights and biases. Since the visible spins $v_i$ form a 2D image, they can be relabeled as if they were on a 2D square grid $v_i \\rightarrow v_{(x,y)}$, where $(x,y)$ is a coordinate in the grid. Therefore, for a given hidden spin $h_j$, the weights connecting to the visible spins $W_{ij}$ can be reshaped into a matrix $W_{ij} \\rightarrow W^{j}_{(x,y)}$. These matrices can be visualized, say with `matplotlib.pyplot.matshow` in python. Visually, these weight matrices represent the correlations the hidden spins have with the visible spins. In a trained RBM, the weight matrices should look like \"features\" that contain elements of handwritten digits, such as straight and curved strokes. If your weights all look noisy or identical for all $j$, then probably the training is not working correctly.   My weights looked much better when I plotted them in grayscale `plt.imshow(M,cmap=plt.cm.binary)`\n",
    "\n",
    ":::{admonition} Grading\n",
    ":class: caution\n",
    "\n",
    "Paste a visualization of your weights into your document.\n",
    "\n",
    ":::"
   ]
  },
  {
   "cell_type": "markdown",
   "metadata": {},
   "source": [
    "### Discrimination\n",
    "\n",
    "One thing an RBM is good at is distinguishing between the thing it was trained on (a written digit) versus something else (say random noise). You can ask your RBM for the relative probability of these things by computing the free energy of two different images and see what is more likely. \n",
    "\n",
    "\n",
    ":::{admonition} Grading\n",
    ":class: caution\n",
    "\n",
    "Report your free energy for these two examples.\n",
    "\n",
    ":::\n"
   ]
  },
  {
   "cell_type": "markdown",
   "metadata": {},
   "source": [
    "--- "
   ]
  }
 ],
 "metadata": {
  "kernelspec": {
   "display_name": "Python 3",
   "language": "python",
   "name": "python3"
  },
  "language_info": {
   "codemirror_mode": {
    "name": "ipython",
    "version": 3
   },
   "file_extension": ".py",
   "mimetype": "text/x-python",
   "name": "python",
   "nbconvert_exporter": "python",
   "pygments_lexer": "ipython3",
   "version": "3.8.3"
  }
 },
 "nbformat": 4,
 "nbformat_minor": 4
}
