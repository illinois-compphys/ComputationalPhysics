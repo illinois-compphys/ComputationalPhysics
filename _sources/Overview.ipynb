{
 "cells": [
  {
   "cell_type": "markdown",
   "metadata": {},
   "source": [
    "Computing in Physics\n",
    "=======\n",
    "\n",
    "\n",
    "Welcome to Computing in Physics.  This is the online text designed for an immersive advanced computational physics course,  Physics-446, offered by the Physics Department at the University of Illinois. I've developed this course to teach you some of the coolest physics I know. This text should be thought of not as a textbook but more as a workbook which guides you through four (plus one) computational projects.   This is inverted from the typical approach to learning where lectures or textbooks are designed to teach and problem sets are designed for testing.  Here the problem sets are where you learn.  This approach comes from the philosphy that learning happens by doing!  That said, these projects are not designed to be do-able on your own:  ask questions and get help!    You can download the course syllabus [here](https://courses.physics.illinois.edu/phys446/sp2024/secure/446SyllabusSpring2024.pdf).\n",
    "\n",
    "---\n"
   ]
  },
  {
   "cell_type": "markdown",
   "metadata": {},
   "source": [
    "## Overall Learning Objectives \n",
    "\n",
    "The general learning objectives for this course are \n",
    "\n",
    "*  How to be *a computational physicist* taught through an immersive hands-on approach.  We will learn everything from good software engineering, to how to go from a model to working simulation code, to how to collect and analyze computational data. \n",
    "\n",
    "* A computational perspective on physics. There are various ways to learn physics, but one of the best is to understand it sufficiently well that you can teach a computer how to do it. You will understand the physics of quantum mechanics by teaching your laptop to simulate a quantum computer; you will understand renormalization group by teaching your computer how to do block-spin decimation.\n",
    "\n",
    "* *Computational Thinking.* In your standard physics curriculum, you have learned how to approach problems analytically (and often experimentally).  Thinking about the world computationally is a different skill which give an alternative tool to approach and understanding problems in the world including scientific ones. \n",
    "\n",
    "---"
   ]
  },
  {
   "cell_type": "markdown",
   "metadata": {},
   "source": [
    "## Broad Themes\n",
    "\n",
    "There are three broad themes that we will see throughout these projects. They are:\n",
    "\n",
    "**From simple rules, comes complicated phenomena:** One quantum mechanical equation gives us all of chemistry, superconductivity, topological insulators, etc.; from firing neurons arises thinking; from evolution arises complicated life. Computation is the best way I know how to shed insight on all of these topics. Computers allow you to simulate the emergence of complex phenomena from simple laws, and I know no better way to understand physics than by teaching your computer how to do physics.\n",
    "\n",
    "**You can understand the universe from simple models:** By this time in your physics career you're probably used to this truism, but think about it for a minute; why don't you need string theory to understand the pressure in a balloon? There is a deep reason for this which goes by the names *universality* and *the renormalization group.* The statistical mechanics section of this course is designed to provide a first pass at universality by having you write simulations that compute universal critical exponents and numerically implement a renormalization group calculation on the Ising model.\n",
    "\n",
    "**Quantum computers are more powerful than classical computers:** Or in other words, quantum mechanics is hard to simulate. For many years, the idea that all computing machines in the universe computed equally well (the modified Church&ndash;Turing thesis) was one of the core tenets of computer science. This means that anything that is computatable in the universe is computable at (about) the same speed on your macbook. Quantum computing broke this paradigm, for reasons which you will come to deeply understand both by writing a quantum computing simulator as well as trying to simulate quantum mechanics!\n",
    "\n",
    "---\n",
    "---"
   ]
  },
  {
   "cell_type": "markdown",
   "metadata": {},
   "source": [
    "## Projects\n",
    "\n",
    "Your goals are to program, simulate, and understand the physics in the four (plus one) projects described below. This work will span much of class-time and all your homework. Reading/working carefully through this text, coming to class and office-hours, and asking questionsare the most effective ways to accomplish this.  My goal is to help you accomplish these projects through this text, lectures (usually $\\ll 30$ minutes per class), and one-on-one interaction throughout class.  The physics that you will work with is broad, and so we will cover a very narrow (albeit important) path through it.   This follows a just-in-time approach to teaching: you'll learn information that you need as you need it. \n",
    "\n",
    "Neither the text nor the lectures will cover all the information you need to complete these projects. Depending on the strength of your physics and computation background, you may need to fill in those information gaps (with our guidance, of course). As you advance in your career in either academia or industry, this will become more common. Learning how to correct an information deficit is an important skill. Use the books and links we mention liberally.\n",
    "\n",
    "You will write programs and run simulations. Programming can be done in essentially any langauge with a strong preference for python (with C++ and Julia as reasonable alternatives).  To get yourself up and running logistically with programming, see [Getting Started](secure/0-CellularAutomata/html/0-GettingStarted.html).\n",
    "\n",
    "As a rule of thumb, don't spend more than 30 minutes trying to decipher a problem on your own; come get clarification.  **Approach I recommend:** Start making progress, get stuck, learn what you need to know to overcome your problem, continue.\n",
    "\n",
    "---"
   ]
  },
  {
   "cell_type": "markdown",
   "metadata": {},
   "source": [
    "\n",
    "### Cellular Automata (project 0)\n",
    "\n",
    "**Due:  January 22** (*5% of grade*)\n",
    "* [Cellular Automata](../CellularAutomata/CellularAutomata)\n",
    "* [Sand](../CellularAutomata/Sand)  (*Extra Credit*)\n",
    "\n",
    "----\n",
    "\n",
    "### Quantum Computing\n",
    "*Quantum mechanics allows you to compute some things exponentially faster than classical physics.*\n",
    "\n",
    "**Due:  February 12**   (*23.75% of the grade*)\n",
    "\n",
    "Build a quantum computer simulator and simulate Shor's algorithm to factor 21.\n",
    "\n",
    "Quantum computing is probably the most important revolution in computing in the last fifty years....\n",
    "\n",
    "If you've seen quantum mechanics, great!  If not, in my (slightly biased) viewpoint, this is the amongst the best ways to learn quantum mechanics.\n",
    "\n",
    "* [Quantum Computing Project Overview](../QC/Overview)\n",
    "\n",
    "---\n",
    "\n",
    "### Statistical Mechanics, Universality, and Renormalization\n",
    "\n",
    "*The world is comprehensible even if we don't know the basic rules.*\n",
    "\n",
    "**Due: March 5**   (*23.75% of the grade*)\n",
    "\n",
    "Simulate the Ising model using Monte Carlo and the Renormalization group\n",
    "\n",
    "Statistical Mechanics is the study of how you go from microscopic to macroscopic phenomena. Renormalization group is the deepest idea in physics\n",
    "\n",
    "* [Stat Mech Project Overview](../Ising/Overview)\n",
    "\n",
    "---\n",
    "###  Generative Modeling \n",
    "\n",
    "*Emergent Models of Thinking*\n",
    "*Many of the most interesting machine learning models are essentially simulations of physical systems.*\n",
    "\n",
    "**Due: April 2*  (*23.75% of the grade*)\n",
    "\n",
    "Physics ...\n",
    "\n",
    "Neural networks: Build a minimal model of memory; learn about machine learning.\n",
    "\n",
    "* [Overview](../ML/Overview)    \n",
    "    * [Hopfield Network](../ML/Hopfield)\n",
    "    * [Restricted Boltzmann Machines](../ML/RBM)\n",
    "    * [Generative Diffusion Models](../ML/Diffusion)\n",
    "\n",
    "\n",
    "---\n",
    "###  Make Up Week\n",
    "\n",
    "Week of April 3\n",
    "\n",
    "---\n",
    "\n",
    "### Condensed Matter\n",
    "\n",
    "*From simple laws, come exotic materials*\n",
    "\n",
    "**Due:** (*Day of Final*)  (*23.75% of the grade*)\n",
    "\n",
    "* [Condensed Matter Project Overview](../TI/Overview)\n",
    "\n",
    "\n",
    "---\n",
    "\n",
    "(*All projects are due at 11:59 PM of the date listed.*)\n",
    "(*Project narratives are considered drafts until we actually assign the project*)\n",
    "\n",
    "\n",
    "\n",
    "---\n",
    "---"
   ]
  },
  {
   "cell_type": "markdown",
   "metadata": {},
   "source": [
    "## Grading and Submission Policies\n",
    "\n",
    "The grading in this course is somewhat atypical.  It is designed for a mastery-based approach where you get credit for what you've accomplished and learned.  These projects are difficult and so this course is designed with a low floor and a high ceiling.  The grading scheme helps facilitate this. \n",
    "\n",
    "There are 4+1 projects, each about three weeks long.\n",
    "\n",
    "You will get points for the parts of the project that you complete successfully, but there will be no partial credit for incorrect results. To compensate for this we are going to spend a lot of class-time + office hours trying to help you get through these projects.\n",
    "\n",
    "Grading will be done in person.  You will need to show one of the course staff your work in person and convince them it's right.  It is an important skill that you learn to determine whether your code produces the correct result. Projects will be graded during a grading office-hour.\n",
    "\n",
    "Two additional points:\n",
    "\n",
    "* It is required that you put together a document (we have a template) that shows the summary of your results.  It will mainly consist of pasted plots and output.   This is primarily to expedite and facilitate grading.  When you show us your assignment for grading, we will look through your document as well as ask you other questions/look at aspects of your code/etc.\n",
    "\n",
    "* It is required that you submit your code and document by the time of the project's deadline.  Each of you will have a separate box folder set up for you where you will place these files.\n",
    "\n",
    "The grading is not linear. Getting through $40\\%$ of the points for a project does not mean you've made it through 40% of the material for the project. Grading is designed to give you more points early on in the project.\n",
    "\n",
    "There is no late submission.\n",
    "\n",
    "We will not post solutions.\n",
    "\n",
    "Extra credit will be added to the relevant project and so is weighted the same as the given project. \n",
    "\n",
    "---\n",
    "\n",
    "### Grading Rubric\n",
    "Grades on the border are rounded up - i.e. 90% is an A.  \n",
    "\n",
    "* 100+:  A+\n",
    "* 90-100: A\n",
    "* 80-90: A-\n",
    "* 70-80: B+\n",
    "* 60-70: B\n",
    "* 50-60: B-\n",
    "* 40-50: C+\n",
    "* 35-40: C\n",
    "* 30-35: C-\n",
    "* 25-30: D+\n",
    "* 20-25: D\n",
    "* 10-20: D-\n",
    "* 0-10: F\n"
   ]
  },
  {
   "cell_type": "markdown",
   "metadata": {},
   "source": [
    "---\n",
    "---"
   ]
  },
  {
   "cell_type": "markdown",
   "metadata": {},
   "source": [
    "##  Course Staff and Office Hours\n",
    " - **Lectures:** MW 10:00-11:20am, 158 Loomis Laboratory \n",
    " - **Professor:** Bryan Clark\n",
    "    - email: bkclark@illinois.edu\n",
    "    - Office: ESB 2111\n",
    "    - Office Hours: Tuesday 1:00-2:00 \n",
    "- **Professor:** Lucas Wagner\n",
    "    - email: lkwagner@illinois.edu\n",
    "    - Office: ESB 2131\n",
    "    - Office Hours: Thu 11:00-12:00 \n",
    "- **TA:** Pin-yi Li\n",
    "    - email: pinyili2@illinois.edu\n",
    "    - Office: Beckman 3039\n",
    "    - Office Hours: Thu 2:30-3:30 Beckman 3035 [Floor Map](floormap/u0228.png)\n",
    "\n",
    "---\n",
    "---\n"
   ]
  },
  {
   "cell_type": "markdown",
   "metadata": {},
   "source": [
    "## Attendance\n",
    "\n",
    "There is no attendance required for class (although we believe that coming to class will be helpful!) That said, **please do not attend class if you are sick**. In such a case, we will work with you to make sure you get caught up. No notes for sickness, etc are required.\n",
    "\n",
    "---"
   ]
  },
  {
   "cell_type": "markdown",
   "metadata": {},
   "source": [
    "\n",
    "## Frequently asked questions\n",
    "\n",
    "\n",
    "*What is the difficulty level of this course:* This course is designed to be tractable but challenging. Place it in your mind on the same level of difficulty as other upper-level physics courses like quantum and statistical mechanics. You will spend a lot of time out of class working on assignments.\n",
    "\n",
    "*What preparation do I need for this course?* The primary requirements are a willingness to work hard and some programming experience (you will get much better at it throughout the course). Most of the physics you need to know will be introduced as needed. If you don't know a lot of quantum mechanics, there is no better way to learn than emulating a quantum computer. If you don't know statistical mechanics, you'll learn from simulating the Ising model.\n",
    "\n",
    "*Who is this course for?* Those who are interested in learning some of the coolest physics I know through a computational lens; those who want to improve their computational skills; those who are interested in mastering the art of computational physics. I think it is a good course both for those interested in going to graduate school and for those going into industry.\n",
    "\n",
    "*What this course is not?* A programming course, a numerical methods course, a software engineering course, etc. That said you will get better at programming and learn plenty of tools and techniques (git, parallel programming, machine learning, etc.).\n",
    "\n",
    "---\n",
    "\n",
    "\n",
    "\n",
    "## Collaboration and resource-use policy\n",
    "\n",
    "- You are allowed to collaborate with others but must write and submit your own work. Please write on top of your work with whom you've collaborated.\n",
    "\n",
    "- You are allowed to look things up online (including coding things). If you are using code from online, you must\n",
    "    - make sure that it is freely available to be used;\n",
    "    - document in your code when and where you are using it.\n",
    "\n",
    "- While you can look up things online, you're not allowed to directly look up an answer. So if we ask \"write code that simulates a quantum computer in python\" you're not allowed to type into google \"python code for simulating a quantum computer\" and then copy it.\n",
    "\n",
    "- You are not allowed to use github copilot or chatgpt.\n",
    "\n",
    "- Please do not post your code on a public website, such as a public github page.\n",
    "\n",
    "\n"
   ]
  },
  {
   "cell_type": "markdown",
   "metadata": {},
   "source": [
    "---"
   ]
  },
  {
   "cell_type": "markdown",
   "metadata": {},
   "source": [
    "Text and course designed by [Bryan Clark](https://clark.physics.illinois.edu)"
   ]
  },
  {
   "cell_type": "code",
   "execution_count": null,
   "metadata": {},
   "outputs": [],
   "source": []
  }
 ],
 "metadata": {
  "kernelspec": {
   "display_name": "Python 3 (ipykernel)",
   "language": "python",
   "name": "python3"
  },
  "language_info": {
   "codemirror_mode": {
    "name": "ipython",
    "version": 3
   },
   "file_extension": ".py",
   "mimetype": "text/x-python",
   "name": "python",
   "nbconvert_exporter": "python",
   "pygments_lexer": "ipython3",
   "version": "3.9.13"
  },
  "vscode": {
   "interpreter": {
    "hash": "31f2aee4e71d21fbe5cf8b01ff0e069b9275f58929596ceb00d14d90e3e16cd6"
   }
  }
 },
 "nbformat": 4,
 "nbformat_minor": 4
}
