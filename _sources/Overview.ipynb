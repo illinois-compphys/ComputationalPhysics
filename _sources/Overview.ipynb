{
 "cells": [
  {
   "cell_type": "markdown",
   "metadata": {},
   "source": [
    "Computing in Physics\n",
    "=======\n",
    "\n",
    "\n",
    "Welcome to Computing in Physics.  This is the online text designed for an immersive advanced computational physics course,  Physics-446, offered by the Physics Department at the University of Illinois. I've developed this course to teach you some of the coolest physics I know. This text should be thought of not as a textbook but more as a workbook which guides you through four (plus one) computational projects.   This is inverted from the typical approach to learning where lectures or textbooks are designed to teach and problem sets are designed for testing.  Here the problem sets are where you learn.  This approach comes from the philosphy that learning happens by doing!  That said, these projects are not designed to be do-able on your own:  ask questions and get help!    You can download the course syllabus [here](https://courses.physics.illinois.edu/phys446/sp2024/secure/446SyllabusSpring2024.pdf).\n",
    "\n",
    "---\n"
   ]
  },
  {
   "cell_type": "markdown",
   "metadata": {},
   "source": [
    "## Overall Learning Objectives \n",
    "\n",
    "The general learning objectives for this course are \n",
    "\n",
    "*  How to be *a computational physicist* taught through an immersive hands-on approach.  We will learn everything from good software engineering, to how to go from a model to working simulation code, to how to collect and analyze computational data. \n",
    "\n",
    "* A computational perspective on physics. There are various ways to learn physics, but one of the best is to understand it sufficiently well that you can teach a computer how to do it. You will understand the physics of quantum mechanics by teaching your laptop to simulate a quantum computer; you will understand renormalization group by teaching your computer how to do block-spin decimation.\n",
    "\n",
    "* *Computational Thinking.* In your standard physics curriculum, you have learned how to approach problems analytically (and often experimentally).  Thinking about the world computationally is a different skill which give an alternative tool to approach and understanding problems in the world including scientific ones. \n",
    "\n",
    "---"
   ]
  },
  {
   "cell_type": "markdown",
   "metadata": {},
   "source": [
    "## Broad Themes\n",
    "\n",
    "There are three broad themes that we will see throughout these projects. They are:\n",
    "\n",
    "**From simple rules, comes complicated phenomena:** One quantum mechanical equation gives us all of chemistry, superconductivity, topological insulators, etc.; from firing neurons arises thinking; from evolution arises complicated life. Computation is the best way I know how to shed insight on all of these topics. Computers allow you to simulate the emergence of complex phenomena from simple laws, and I know no better way to understand physics than by teaching your computer how to do physics.\n",
    "\n",
    "**You can understand the universe from simple models:** By this time in your physics career you're probably used to this truism, but think about it for a minute; why don't you need string theory to understand the pressure in a balloon? There is a deep reason for this which goes by the names *universality* and *the renormalization group.* The statistical mechanics section of this course is designed to provide a first pass at universality by having you write simulations that compute universal critical exponents and numerically implement a renormalization group calculation on the Ising model.\n",
    "\n",
    "**Quantum computers are more powerful than classical computers:** Or in other words, quantum mechanics is hard to simulate. For many years, the idea that all computing machines in the universe computed equally well (the modified Church&ndash;Turing thesis) was one of the core tenets of computer science. This means that anything that is computatable in the universe is computable at (about) the same speed on your macbook. Quantum computing broke this paradigm, for reasons which you will come to deeply understand both by writing a quantum computing simulator as well as trying to simulate quantum mechanics!\n",
    "\n",
    "---\n",
    "---"
   ]
  },
  {
   "cell_type": "markdown",
   "metadata": {},
   "source": [
    "## Projects\n",
    "\n",
    "Your goals are to program, simulate, and understand the physics in the four (plus one) projects described below. This work will span much of class-time and all your homework. Reading/working carefully through this text, coming to class and office-hours, and asking questionsare the most effective ways to accomplish this.  My goal is to help you accomplish these projects through this text, lectures (usually $\\ll 30$ minutes per class), and one-on-one interaction throughout class.  The physics that you will work with is broad, and so we will cover a very narrow (albeit important) path through it.   This follows a just-in-time approach to teaching: you'll learn information that you need as you need it. \n",
    "\n",
    "Neither the text nor the lectures will cover all the information you need to complete these projects. Depending on the strength of your physics and computation background, you may need to fill in those information gaps (with our guidance, of course). As you advance in your career in either academia or industry, this will become more common. Learning how to correct an information deficit is an important skill. Use the books and links we mention liberally.\n",
    "\n",
    "You will write programs and run simulations. Programming can be done in essentially any langauge with a strong preference for python (with C++ and Julia as reasonable alternatives).  To get yourself up and running logistically with programming, see [Getting Started](secure/0-CellularAutomata/html/0-GettingStarted.html).\n",
    "\n",
    "As a rule of thumb, don't spend more than 30 minutes trying to decipher a problem on your own; come get clarification.  **Approach I recommend:** Start making progress, get stuck, learn what you need to know to overcome your problem, continue.\n",
    "\n",
    "---"
   ]
  },
  {
   "cell_type": "markdown",
   "metadata": {},
   "source": [
    "\n",
    "### Cellular Automata (project 0)\n",
    "\n",
    "**Due:  January 22** (*5% of grade*)\n",
    "* [Cellular Automata](../CellularAutomata/CellularAutomata)\n",
    "* [Sand](../CellularAutomata/Sand)  (*Extra Credit*)\n",
    "\n",
    "----\n",
    "\n",
    "### Quantum Computing\n",
    "*Quantum mechanics allows you to compute some things exponentially faster than classical physics.*\n",
    "\n",
    "**Due:  February 12**   (*23.75% of the grade*)\n",
    "\n",
    "Build a quantum computer simulator and simulate Shor's algorithm to factor 21.\n",
    "\n",
    "Quantum computing is probably the most important revolution in computing in the last fifty years....\n",
    "\n",
    "If you've seen quantum mechanics, great!  If not, in my (slightly biased) viewpoint, this is the amongst the best ways to learn quantum mechanics.\n",
    "\n",
    "* [Quantum Computing Project Overview](../QC/Overview)\n",
    "\n",
    "---\n",
    "\n",
    "### Statistical Mechanics, Universality, and Renormalization\n",
    "\n",
    "*The world is comprehensible even if we don't know the basic rules.*\n",
    "\n",
    "**Due: March 5**   (*23.75% of the grade*)\n",
    "\n",
    "Simulate the Ising model using Monte Carlo and the Renormalization group\n",
    "\n",
    "Statistical Mechanics is the study of how you go from microscopic to macroscopic phenomena. Renormalization group is the deepest idea in physics\n",
    "\n",
    "* [Stat Mech Project Overview](../Ising/Overview)\n",
    "\n",
    "---\n",
    "###  Generative Modeling \n",
    "\n",
    "*Emergent Models of Thinking*\n",
    "*Many of the most interesting machine learning models are essentially simulations of physical systems.*\n",
    "\n",
    "**Due: April 2*  (*23.75% of the grade*)\n",
    "\n",
    "Physics ...\n",
    "\n",
    "Neural networks: Build a minimal model of memory; learn about machine learning.\n",
    "\n",
    "* [Overview](../ML/Overview)    \n",
    "    * [Hopfield Network](../ML/Hopfield)\n",
    "    * [Restricted Boltzmann Machines](../ML/RBM)\n",
    "    * [Generative Diffusion Models](../ML/Diffusion)\n",
    "\n",
    "\n",
    "---\n",
    "###  Make Up Week\n",
    "\n",
    "Week of April 3\n",
    "\n",
    "---\n",
    "\n",
    "### Condensed Matter\n",
    "\n",
    "*From simple laws, come exotic materials*\n",
    "\n",
    "**Due:** (*Day of Final*)  (*23.75% of the grade*)\n",
    "\n",
    "* [Condensed Matter Project Overview](../TI/Overview)\n",
    "\n",
    "\n",
    "---\n",
    "\n",
    "(*All projects are due at 11:59 PM of the date listed.*)\n",
    "(*Project narratives are considered drafts until we actually assign the project*)\n",
    "\n",
    "\n",
    "\n",
    "---\n",
    "---"
   ]
  },
  {
   "cell_type": "code",
   "execution_count": 32,
   "metadata": {},
   "outputs": [
    {
     "data": {
      "text/html": [
       "<table border=\"0\" cellpadding=\"0\" cellspacing=\"0\" class=\"month\">\n",
       "<tr><th colspan=\"7\" class=\"month\">January 2024</th></tr>\n",
       "<tr><th class=\"mon\">Mon</th><th class=\"tue\">Tue</th><th class=\"wed\">Wed</th><th class=\"thu\">Thu</th><th class=\"fri\">Fri</th><th class=\"sat\">Sat</th><th class=\"sun\">Sun</th></tr>\n",
       "<tr><td class=\"mon\">1</td><td class=\"tue\">2</td><td class=\"wed\">3</td><td class=\"thu\">4</td><td class=\"fri\">5</td><td class=\"sat\">6</td><td class=\"sun\">7</td></tr>\n",
       "<tr><td class=\"mon\">8</td><td class=\"tue\">9</td><td class=\"wed\">10</td><td class=\"thu\">11</td><td class=\"fri\">12</td><td class=\"sat\">13</td><td class=\"sun\">14</td></tr>\n",
       "<tr><td class=\"mon\">15</td><td class=\"tue\">16</td><td class=\"wed\" bgcolor=\"red\">17</td><td class=\"thu\" bgcolor=\"red\">18</td><td class=\"fri\" bgcolor=\"red\">19</td><td class=\"sat\" bgcolor=\"red\">20</td><td class=\"sun\" bgcolor=\"red\">21</td></tr>\n",
       "<tr><td class=\"mon\" bgcolor=\"pink\">22</td><td class=\"tue\" bgcolor=\"pink\">23</td><td class=\"wed\" bgcolor=\"pink\">24</td><td class=\"thu\" bgcolor=\"pink\">25</td><td class=\"fri\" bgcolor=\"pink\">26</td><td class=\"sat\" bgcolor=\"pink\">27</td><td class=\"sun\" bgcolor=\"pink\">28</td></tr>\n",
       "<tr><td class=\"mon\" bgcolor=\"pink\">29</td><td class=\"tue\" bgcolor=\"pink\">30</td><td class=\"wed\" bgcolor=\"pink\">31</td><td class=\"noday\">&nbsp;</td><td class=\"noday\">&nbsp;</td><td class=\"noday\">&nbsp;</td><td class=\"noday\">&nbsp;</td></tr>\n",
       "</table>\n"
      ],
      "text/plain": [
       "<IPython.core.display.HTML object>"
      ]
     },
     "metadata": {},
     "output_type": "display_data"
    },
    {
     "data": {
      "text/html": [
       "<table border=\"0\" cellpadding=\"0\" cellspacing=\"0\" class=\"month\">\n",
       "<tr><th colspan=\"7\" class=\"month\">February 2024</th></tr>\n",
       "<tr><th class=\"mon\">Mon</th><th class=\"tue\">Tue</th><th class=\"wed\">Wed</th><th class=\"thu\">Thu</th><th class=\"fri\">Fri</th><th class=\"sat\">Sat</th><th class=\"sun\">Sun</th></tr>\n",
       "<tr><td class=\"noday\">&nbsp;</td><td class=\"noday\">&nbsp;</td><td class=\"noday\">&nbsp;</td><td class=\"thu\" bgcolor=\"pink\">1</td><td class=\"fri\" bgcolor=\"pink\">2</td><td class=\"sat\" bgcolor=\"pink\">3</td><td class=\"sun\" bgcolor=\"pink\">4</td></tr>\n",
       "<tr><td class=\"mon\" bgcolor=\"pink\">5</td><td class=\"tue\" bgcolor=\"pink\">6</td><td class=\"wed\" bgcolor=\"pink\">7</td><td class=\"thu\" bgcolor=\"pink\">8</td><td class=\"fri\" bgcolor=\"pink\">9</td><td class=\"sat\" bgcolor=\"pink\">10</td><td class=\"sun\" bgcolor=\"pink\">11</td></tr>\n",
       "<tr><td class=\"mon\" bgcolor=\"orange\">12</td><td class=\"tue\" bgcolor=\"orange\">13</td><td class=\"wed\" bgcolor=\"orange\">14</td><td class=\"thu\" bgcolor=\"orange\">15</td><td class=\"fri\" bgcolor=\"orange\">16</td><td class=\"sat\" bgcolor=\"orange\">17</td><td class=\"sun\" bgcolor=\"orange\">18</td></tr>\n",
       "<tr><td class=\"mon\" bgcolor=\"orange\">19</td><td class=\"tue\" bgcolor=\"orange\">20</td><td class=\"wed\" bgcolor=\"orange\">21</td><td class=\"thu\" bgcolor=\"orange\">22</td><td class=\"fri\" bgcolor=\"orange\">23</td><td class=\"sat\" bgcolor=\"orange\">24</td><td class=\"sun\" bgcolor=\"orange\">25</td></tr>\n",
       "<tr><td class=\"mon\" bgcolor=\"orange\">26</td><td class=\"tue\" bgcolor=\"orange\">27</td><td class=\"wed\" bgcolor=\"orange\">28</td><td class=\"thu\" bgcolor=\"orange\">29</td><td class=\"noday\">&nbsp;</td><td class=\"noday\">&nbsp;</td><td class=\"noday\">&nbsp;</td></tr>\n",
       "</table>\n"
      ],
      "text/plain": [
       "<IPython.core.display.HTML object>"
      ]
     },
     "metadata": {},
     "output_type": "display_data"
    },
    {
     "data": {
      "text/html": [
       "<table border=\"0\" cellpadding=\"0\" cellspacing=\"0\" class=\"month\">\n",
       "<tr><th colspan=\"7\" class=\"month\">March 2024</th></tr>\n",
       "<tr><th class=\"mon\">Mon</th><th class=\"tue\">Tue</th><th class=\"wed\">Wed</th><th class=\"thu\">Thu</th><th class=\"fri\">Fri</th><th class=\"sat\">Sat</th><th class=\"sun\">Sun</th></tr>\n",
       "<tr><td class=\"noday\">&nbsp;</td><td class=\"noday\">&nbsp;</td><td class=\"noday\">&nbsp;</td><td class=\"noday\">&nbsp;</td><td class=\"fri\" bgcolor=\"orange\">1</td><td class=\"sat\" bgcolor=\"orange\">2</td><td class=\"sun\" bgcolor=\"orange\">3</td></tr>\n",
       "<tr><td class=\"mon\" bgcolor=\"yellow\">4</td><td class=\"tue\" bgcolor=\"yellow\">5</td><td class=\"wed\" bgcolor=\"yellow\">6</td><td class=\"thu\" bgcolor=\"yellow\">7</td><td class=\"fri\" bgcolor=\"yellow\">8</td><td class=\"sat\" bgcolor=\"yellow\">9</td><td class=\"sun\" bgcolor=\"yellow\">10</td></tr>\n",
       "<tr><td class=\"mon\">11</td><td class=\"tue\">12</td><td class=\"wed\">13</td><td class=\"thu\">14</td><td class=\"fri\">15</td><td class=\"sat\">16</td><td class=\"sun\">17</td></tr>\n",
       "<tr><td class=\"mon\" bgcolor=\"yellow\">18</td><td class=\"tue\" bgcolor=\"yellow\">19</td><td class=\"wed\" bgcolor=\"yellow\">20</td><td class=\"thu\" bgcolor=\"yellow\">21</td><td class=\"fri\" bgcolor=\"yellow\">22</td><td class=\"sat\" bgcolor=\"yellow\">23</td><td class=\"sun\" bgcolor=\"yellow\">24</td></tr>\n",
       "<tr><td class=\"mon\" bgcolor=\"yellow\">25</td><td class=\"tue\" bgcolor=\"yellow\">26</td><td class=\"wed\" bgcolor=\"yellow\">27</td><td class=\"thu\" bgcolor=\"yellow\">28</td><td class=\"fri\" bgcolor=\"yellow\">29</td><td class=\"sat\" bgcolor=\"yellow\">30</td><td class=\"sun\" bgcolor=\"yellow\">31</td></tr>\n",
       "</table>\n"
      ],
      "text/plain": [
       "<IPython.core.display.HTML object>"
      ]
     },
     "metadata": {},
     "output_type": "display_data"
    },
    {
     "data": {
      "text/html": [
       "<table border=\"0\" cellpadding=\"0\" cellspacing=\"0\" class=\"month\">\n",
       "<tr><th colspan=\"7\" class=\"month\">April 2024</th></tr>\n",
       "<tr><th class=\"mon\">Mon</th><th class=\"tue\">Tue</th><th class=\"wed\">Wed</th><th class=\"thu\">Thu</th><th class=\"fri\">Fri</th><th class=\"sat\">Sat</th><th class=\"sun\">Sun</th></tr>\n",
       "<tr><td class=\"mon\">1</td><td class=\"tue\">2</td><td class=\"wed\">3</td><td class=\"thu\">4</td><td class=\"fri\">5</td><td class=\"sat\">6</td><td class=\"sun\">7</td></tr>\n",
       "<tr><td class=\"mon\" bgcolor=\"green\">8</td><td class=\"tue\" bgcolor=\"green\">9</td><td class=\"wed\" bgcolor=\"green\">10</td><td class=\"thu\" bgcolor=\"green\">11</td><td class=\"fri\" bgcolor=\"green\">12</td><td class=\"sat\" bgcolor=\"green\">13</td><td class=\"sun\" bgcolor=\"green\">14</td></tr>\n",
       "<tr><td class=\"mon\" bgcolor=\"green\">15</td><td class=\"tue\" bgcolor=\"green\">16</td><td class=\"wed\" bgcolor=\"green\">17</td><td class=\"thu\" bgcolor=\"green\">18</td><td class=\"fri\" bgcolor=\"green\">19</td><td class=\"sat\" bgcolor=\"green\">20</td><td class=\"sun\" bgcolor=\"green\">21</td></tr>\n",
       "<tr><td class=\"mon\" bgcolor=\"green\">22</td><td class=\"tue\" bgcolor=\"green\">23</td><td class=\"wed\" bgcolor=\"green\">24</td><td class=\"thu\" bgcolor=\"green\">25</td><td class=\"fri\" bgcolor=\"green\">26</td><td class=\"sat\" bgcolor=\"green\">27</td><td class=\"sun\" bgcolor=\"green\">28</td></tr>\n",
       "<tr><td class=\"mon\">29</td><td class=\"tue\">30</td><td class=\"noday\">&nbsp;</td><td class=\"noday\">&nbsp;</td><td class=\"noday\">&nbsp;</td><td class=\"noday\">&nbsp;</td><td class=\"noday\">&nbsp;</td></tr>\n",
       "</table>\n"
      ],
      "text/plain": [
       "<IPython.core.display.HTML object>"
      ]
     },
     "metadata": {},
     "output_type": "display_data"
    }
   ],
   "source": [
    "# intended for use in a Jupyter Notebook or similar.\n",
    "import calendar\n",
    "from calendar import HTMLCalendar\n",
    "from IPython.display import HTML\n",
    "\n",
    "# Based on https://stackoverflow.com/a/1458077/1639671\n",
    "class HighlightedCalendar(HTMLCalendar):\n",
    "    def __init__(self, highlight=[], highlight2=[],highlight3=[],highlight4=[],highlight5=[],*args, **kwargs):\n",
    "        super().__init__(*args, **kwargs)\n",
    "        self._highlight = highlight\n",
    "        self._highlight2 = highlight2\n",
    "        self._highlight3 = highlight3\n",
    "        self._highlight4 = highlight4\n",
    "        self._highlight5 = highlight5\n",
    "\n",
    "\n",
    "\n",
    "\n",
    "\n",
    "    def formatday(self, day, weekday):\n",
    "        \"\"\"\n",
    "        Return a day as a table cell.\n",
    "        \"\"\"\n",
    "        if day in self._highlight:\n",
    "            return '<td class=\"%s\" bgcolor=\"red\">%d</td>' % (self.cssclasses[weekday], day)\n",
    "        if day in self._highlight2:\n",
    "            return '<td class=\"%s\" bgcolor=\"pink\">%d</td>' % (self.cssclasses[weekday], day)\n",
    "        if day in self._highlight3:\n",
    "            return '<td class=\"%s\" bgcolor=\"orange\">%d</td>' % (self.cssclasses[weekday], day)\n",
    "        if day in self._highlight4:\n",
    "            return '<td class=\"%s\" bgcolor=\"yellow\">%d</td>' % (self.cssclasses[weekday], day)\n",
    "        if day in self._highlight5:\n",
    "            return '<td class=\"%s\" bgcolor=\"green\">%d</td>' % (self.cssclasses[weekday], day)\n",
    "        else:\n",
    "            return super().formatday(day, weekday)\n",
    "            \n",
    "highlight = range(17, 22)\n",
    "highlight2=range(22,32)\n",
    "display(HTML(HighlightedCalendar(highlight=range(17, 22),highlight2=range(22,22+10)).formatmonth(2024, 1)))\n",
    "\n",
    "display(HTML(HighlightedCalendar(highlight3=range(12, 12+21),highlight2=range(1,1+11)).formatmonth(2024, 2)))\n",
    "display(HTML(HighlightedCalendar(highlight3=range(1, 4),highlight4=list(range(4,11))+list(range(18,32))).formatmonth(2024, 3)))\n",
    "display(HTML(HighlightedCalendar(highlight5=range(8, 8+21)).formatmonth(2024, 4)))"
   ]
  },
  {
   "cell_type": "code",
   "execution_count": 50,
   "metadata": {},
   "outputs": [
    {
     "data": {
      "text/html": [
       "<table border=\"0\" cellpadding=\"0\" cellspacing=\"0\" class=\"month\">\n",
       "<tr><th colspan=\"7\" class=\"month\">January 2024</th></tr>\n",
       "<tr><th class=\"mon\">Mon</th><th class=\"tue\">Tue</th><th class=\"wed\">Wed</th><th class=\"thu\">Thu</th><th class=\"fri\">Fri</th><th class=\"sat\">Sat</th><th class=\"sun\">Sun</th></tr>\n",
       "<tr><td class=\"mon\">1</td><td class=\"tue\">2</td><td class=\"wed\">3</td><td class=\"thu\">4</td><td class=\"fri\">5</td><td class=\"sat\">6</td><td class=\"sun\">7</td></tr>\n",
       "<tr><td class=\"mon\">8</td><td class=\"tue\">9</td><td class=\"wed\">10</td><td class=\"thu\">11</td><td class=\"fri\">12</td><td class=\"sat\">13</td><td class=\"sun\">14</td></tr>\n",
       "<tr><td class=\"mon\">15</td><td class=\"tue\">16</td><td class=\"wed\" bgcolor=\"red\">17</td><td class=\"thu\" bgcolor=\"red\">18</td><td class=\"fri\" bgcolor=\"red\">19</td><td class=\"sat\" bgcolor=\"red\">20</td><td class=\"sun\" bgcolor=\"red\">21</td></tr>\n",
       "<tr><td class=\"mon\" bgcolor=\"pink\">22</td><td class=\"tue\" bgcolor=\"pink\">23</td><td class=\"wed\" bgcolor=\"pink\">24</td><td class=\"thu\" bgcolor=\"pink\">25</td><td class=\"fri\" bgcolor=\"pink\">26</td><td class=\"sat\" bgcolor=\"pink\">27</td><td class=\"sun\" bgcolor=\"pink\">28</td></tr>\n",
       "<tr><td class=\"mon\" bgcolor=\"pink\">29</td><td class=\"tue\" bgcolor=\"pink\">30</td><td class=\"wed\" bgcolor=\"pink\">31</td><td class=\"noday\">&nbsp;</td><td class=\"noday\">&nbsp;</td><td class=\"noday\">&nbsp;</td><td class=\"noday\">&nbsp;</td></tr>\n",
       "</table>\n"
      ],
      "text/plain": [
       "<IPython.core.display.HTML object>"
      ]
     },
     "metadata": {},
     "output_type": "display_data"
    },
    {
     "data": {
      "text/html": [
       "<table border=\"0\" cellpadding=\"0\" cellspacing=\"0\" class=\"month\">\n",
       "<tr><th colspan=\"7\" class=\"month\">February 2024</th></tr>\n",
       "<tr><th class=\"mon\">Mon</th><th class=\"tue\">Tue</th><th class=\"wed\">Wed</th><th class=\"thu\">Thu</th><th class=\"fri\">Fri</th><th class=\"sat\">Sat</th><th class=\"sun\">Sun</th></tr>\n",
       "<tr><td class=\"noday\">&nbsp;</td><td class=\"noday\">&nbsp;</td><td class=\"noday\">&nbsp;</td><td class=\"thu\" bgcolor=\"pink\">1</td><td class=\"fri\" bgcolor=\"pink\">2</td><td class=\"sat\" bgcolor=\"pink\">3</td><td class=\"sun\" bgcolor=\"pink\">4</td></tr>\n",
       "<tr><td class=\"mon\" bgcolor=\"pink\">5</td><td class=\"tue\" bgcolor=\"pink\">6</td><td class=\"wed\" bgcolor=\"pink\">7</td><td class=\"thu\" bgcolor=\"pink\">8</td><td class=\"fri\" bgcolor=\"pink\">9</td><td class=\"sat\" bgcolor=\"pink\">10</td><td class=\"sun\" bgcolor=\"pink\">11</td></tr>\n",
       "<tr><td class=\"mon\" bgcolor=\"orange\">12</td><td class=\"tue\" bgcolor=\"orange\">13</td><td class=\"wed\" bgcolor=\"orange\">14</td><td class=\"thu\" bgcolor=\"orange\">15</td><td class=\"fri\" bgcolor=\"orange\">16</td><td class=\"sat\" bgcolor=\"orange\">17</td><td class=\"sun\" bgcolor=\"orange\">18</td></tr>\n",
       "<tr><td class=\"mon\" bgcolor=\"orange\">19</td><td class=\"tue\" bgcolor=\"orange\">20</td><td class=\"wed\" bgcolor=\"orange\">21</td><td class=\"thu\" bgcolor=\"orange\">22</td><td class=\"fri\" bgcolor=\"orange\">23</td><td class=\"sat\" bgcolor=\"orange\">24</td><td class=\"sun\" bgcolor=\"orange\">25</td></tr>\n",
       "<tr><td class=\"mon\" bgcolor=\"orange\">26</td><td class=\"tue\" bgcolor=\"orange\">27</td><td class=\"wed\" bgcolor=\"orange\">28</td><td class=\"thu\" bgcolor=\"orange\">29</td><td class=\"noday\">&nbsp;</td><td class=\"noday\">&nbsp;</td><td class=\"noday\">&nbsp;</td></tr>\n",
       "</table>\n"
      ],
      "text/plain": [
       "<IPython.core.display.HTML object>"
      ]
     },
     "metadata": {},
     "output_type": "display_data"
    },
    {
     "data": {
      "text/html": [
       "<table border=\"0\" cellpadding=\"0\" cellspacing=\"0\" class=\"month\">\n",
       "<tr><th colspan=\"7\" class=\"month\">March 2024</th></tr>\n",
       "<tr><th class=\"mon\">Mon</th><th class=\"tue\">Tue</th><th class=\"wed\">Wed</th><th class=\"thu\">Thu</th><th class=\"fri\">Fri</th><th class=\"sat\">Sat</th><th class=\"sun\">Sun</th></tr>\n",
       "<tr><td class=\"noday\">&nbsp;</td><td class=\"noday\">&nbsp;</td><td class=\"noday\">&nbsp;</td><td class=\"noday\">&nbsp;</td><td class=\"fri\" bgcolor=\"orange\">1</td><td class=\"sat\" bgcolor=\"orange\">2</td><td class=\"sun\" bgcolor=\"orange\">3</td></tr>\n",
       "<tr><td class=\"mon\" bgcolor=\"yellow\">4</td><td class=\"tue\" bgcolor=\"yellow\">5</td><td class=\"wed\" bgcolor=\"yellow\">6</td><td class=\"thu\" bgcolor=\"yellow\">7</td><td class=\"fri\" bgcolor=\"yellow\">8</td><td class=\"sat\" bgcolor=\"yellow\">9</td><td class=\"sun\" bgcolor=\"yellow\">10</td></tr>\n",
       "<tr><td class=\"mon\">11</td><td class=\"tue\">12</td><td class=\"wed\">13</td><td class=\"thu\">14</td><td class=\"fri\">15</td><td class=\"sat\">16</td><td class=\"sun\">17</td></tr>\n",
       "<tr><td class=\"mon\" bgcolor=\"yellow\">18</td><td class=\"tue\" bgcolor=\"yellow\">19</td><td class=\"wed\" bgcolor=\"yellow\">20</td><td class=\"thu\" bgcolor=\"yellow\">21</td><td class=\"fri\" bgcolor=\"yellow\">22</td><td class=\"sat\" bgcolor=\"yellow\">23</td><td class=\"sun\" bgcolor=\"yellow\">24</td></tr>\n",
       "<tr><td class=\"mon\" bgcolor=\"yellow\">25</td><td class=\"tue\" bgcolor=\"yellow\">26</td><td class=\"wed\" bgcolor=\"yellow\">27</td><td class=\"thu\" bgcolor=\"yellow\">28</td><td class=\"fri\" bgcolor=\"yellow\">29</td><td class=\"sat\" bgcolor=\"yellow\">30</td><td class=\"sun\" bgcolor=\"yellow\">31</td></tr>\n",
       "</table>\n"
      ],
      "text/plain": [
       "<IPython.core.display.HTML object>"
      ]
     },
     "metadata": {},
     "output_type": "display_data"
    },
    {
     "data": {
      "text/html": [
       "<table border=\"0\" cellpadding=\"0\" cellspacing=\"0\" class=\"month\">\n",
       "<tr><th colspan=\"7\" class=\"month\">April 2024</th></tr>\n",
       "<tr><th class=\"mon\">Mon</th><th class=\"tue\">Tue</th><th class=\"wed\">Wed</th><th class=\"thu\">Thu</th><th class=\"fri\">Fri</th><th class=\"sat\">Sat</th><th class=\"sun\">Sun</th></tr>\n",
       "<tr><td class=\"mon\">1</td><td class=\"tue\">2</td><td class=\"wed\">3</td><td class=\"thu\">4</td><td class=\"fri\">5</td><td class=\"sat\">6</td><td class=\"sun\">7</td></tr>\n",
       "<tr><td class=\"mon\" bgcolor=\"green\">8</td><td class=\"tue\" bgcolor=\"green\">9</td><td class=\"wed\" bgcolor=\"green\">10</td><td class=\"thu\" bgcolor=\"green\">11</td><td class=\"fri\" bgcolor=\"green\">12</td><td class=\"sat\" bgcolor=\"green\">13</td><td class=\"sun\" bgcolor=\"green\">14</td></tr>\n",
       "<tr><td class=\"mon\" bgcolor=\"green\">15</td><td class=\"tue\" bgcolor=\"green\">16</td><td class=\"wed\" bgcolor=\"green\">17</td><td class=\"thu\" bgcolor=\"green\">18</td><td class=\"fri\" bgcolor=\"green\">19</td><td class=\"sat\" bgcolor=\"green\">20</td><td class=\"sun\" bgcolor=\"green\">21</td></tr>\n",
       "<tr><td class=\"mon\" bgcolor=\"green\">22</td><td class=\"tue\" bgcolor=\"green\">23</td><td class=\"wed\" bgcolor=\"green\">24</td><td class=\"thu\" bgcolor=\"green\">25</td><td class=\"fri\" bgcolor=\"green\">26</td><td class=\"sat\" bgcolor=\"green\">27</td><td class=\"sun\" bgcolor=\"green\">28</td></tr>\n",
       "<tr><td class=\"mon\">29</td><td class=\"tue\">30</td><td class=\"noday\">&nbsp;</td><td class=\"noday\">&nbsp;</td><td class=\"noday\">&nbsp;</td><td class=\"noday\">&nbsp;</td><td class=\"noday\">&nbsp;</td></tr>\n",
       "</table>\n"
      ],
      "text/plain": [
       "<IPython.core.display.HTML object>"
      ]
     },
     "metadata": {},
     "output_type": "display_data"
    }
   ],
   "source": [
    "## From https://gist.github.com/flutefreak7/53f7b36baaa122cfbfe18ebf83b6f0e3\n",
    "\n",
    "# intended for use in a Jupyter Notebook or similar.\n",
    "import calendar\n",
    "from calendar import HTMLCalendar\n",
    "from IPython.display import HTML\n",
    "\n",
    "# Based on https://stackoverflow.com/a/1458077/1639671\n",
    "class HighlightedCalendar(HTMLCalendar):\n",
    "    def __init__(self, highlightLists=[], colorLists=[],*args, **kwargs):\n",
    "        super().__init__(*args, **kwargs)\n",
    "        self._highlightLists=highlightLists\n",
    "        self._colorLists=colorLists\n",
    "\n",
    "    def formatday(self, day, weekday):\n",
    "        \"\"\"\n",
    "        Return a day as a table cell.\n",
    "        \"\"\"\n",
    "        colored=False\n",
    "        for highlight,color in zip(self._highlightLists,self._colorLists):            \n",
    "            if day in highlight:\n",
    "                colored=True\n",
    "                myString='<td class=\"%s\" bgcolor=\"'+color+'\">%d</td>'\n",
    "                return myString % (self.cssclasses[weekday], day)\n",
    "        if not colored:\n",
    "            return super().formatday(day, weekday)\n",
    "            \n",
    "project0_1=list(range(17,22))\n",
    "project1_1=list(range(22,22+10))\n",
    "\n",
    "project1_2=list(range(1,1+11))\n",
    "project2_2=list(range(12,12+21))\n",
    "project2_3=list(range(1,4))\n",
    "project3_3=list(range(4,11))+list(range(18,32))\n",
    "\n",
    "project4_4=list(range(8,8+21))\n",
    "\n",
    "\n",
    "\n",
    "display(HTML(HighlightedCalendar([project0_1,project1_1],['red','pink']).formatmonth(2024, 1)))\n",
    "display(HTML(HighlightedCalendar([project1_2,project2_2],['pink','orange']).formatmonth(2024, 2)))\n",
    "display(HTML(HighlightedCalendar([project2_3,project3_3],['orange','yellow']).formatmonth(2024, 3)))\n",
    "display(HTML(HighlightedCalendar([project4_4],['green']).formatmonth(2024, 4)))\n",
    "\n",
    "\n",
    "#highlight = range(17, 22)\n",
    "#highlight2=range(22,32)\n",
    "#display(HTML(HighlightedCalendar(highlight=range(17, 22),highlight2=range(22,22+10)).formatmonth(2024, 1)))\n",
    "\n",
    "#display(HTML(HighlightedCalendar(highlight3=range(12, 12+21),highlight2=range(1,1+11)).formatmonth(2024, 2)))\n",
    "#display(HTML(HighlightedCalendar(highlight3=range(1, 4),highlight4=list(range(4,11))+list(range(18,32))).formatmonth(2024, 3)))\n",
    "#display(HTML(HighlightedCalendar(highlight5=range(8, 8+21)).formatmonth(2024, 4)))\n",
    "# Jan 21  Project 0\n",
    "# Feb 11 Project 1\n",
    "# Mar 3 Project 2\n",
    "# Mar 31 Project 3\n",
    "# Day of Final Project 4"
   ]
  },
  {
   "cell_type": "code",
   "execution_count": 5,
   "metadata": {},
   "outputs": [
    {
     "ename": "TypeError",
     "evalue": "__init__() got an unexpected keyword argument 'html_calendar'",
     "output_type": "error",
     "traceback": [
      "\u001b[0;31m---------------------------------------------------------------------------\u001b[0m",
      "\u001b[0;31mTypeError\u001b[0m                                 Traceback (most recent call last)",
      "Cell \u001b[0;32mIn[5], line 22\u001b[0m\n\u001b[1;32m     13\u001b[0m special_days \u001b[38;5;241m=\u001b[39m {\n\u001b[1;32m     14\u001b[0m     \u001b[38;5;241m1\u001b[39m: \u001b[38;5;124m'\u001b[39m\u001b[38;5;124mlightblue\u001b[39m\u001b[38;5;124m'\u001b[39m,  \u001b[38;5;66;03m# Highlight first day of the month\u001b[39;00m\n\u001b[1;32m     15\u001b[0m     \u001b[38;5;241m15\u001b[39m: \u001b[38;5;124m'\u001b[39m\u001b[38;5;124mlightgreen\u001b[39m\u001b[38;5;124m'\u001b[39m,  \u001b[38;5;66;03m# Highlight 15th day\u001b[39;00m\n\u001b[1;32m     16\u001b[0m     \u001b[38;5;241m25\u001b[39m: \u001b[38;5;124m'\u001b[39m\u001b[38;5;124mpink\u001b[39m\u001b[38;5;124m'\u001b[39m,  \u001b[38;5;66;03m# Example for another highlight\u001b[39;00m\n\u001b[1;32m     17\u001b[0m }\n\u001b[1;32m     19\u001b[0m cal \u001b[38;5;241m=\u001b[39m ColoredHTMLCalendar(special_days)\n\u001b[0;32m---> 22\u001b[0m \u001b[43mHTML\u001b[49m\u001b[43m(\u001b[49m\u001b[43mhtml_calendar\u001b[49m\u001b[43m \u001b[49m\u001b[38;5;241;43m=\u001b[39;49m\u001b[43m \u001b[49m\u001b[43mcal\u001b[49m\u001b[38;5;241;43m.\u001b[39;49m\u001b[43mformatmonth\u001b[49m\u001b[43m(\u001b[49m\u001b[38;5;241;43m2024\u001b[39;49m\u001b[43m,\u001b[49m\u001b[43m \u001b[49m\u001b[38;5;241;43m1\u001b[39;49m\u001b[43m)\u001b[49m\u001b[43m)\u001b[49m  \u001b[38;5;66;03m# Replace with desired year and month\u001b[39;00m\n",
      "\u001b[0;31mTypeError\u001b[0m: __init__() got an unexpected keyword argument 'html_calendar'"
     ]
    }
   ],
   "source": [
    "class ColoredHTMLCalendar(calendar.HTMLCalendar):\n",
    "    def __init__(self, special_days={}):\n",
    "        super().__init__()\n",
    "        self.special_days = special_days\n",
    "\n",
    "    def formatday(self, day, weekday):\n",
    "        \"\"\"Formats a day as a table cell.\"\"\"\n",
    "        if day in self.special_days:\n",
    "            color = self.special_days[day]\n",
    "            return f\"<td bgcolor='{color}'><font color='black'>{day}</font></td>\"\n",
    "        else:\n",
    "            return super().formatday(day, weekday)\n",
    "special_days = {\n",
    "    1: 'lightblue',  # Highlight first day of the month\n",
    "    15: 'lightgreen',  # Highlight 15th day\n",
    "    25: 'pink',  # Example for another highlight\n",
    "}\n",
    "\n",
    "cal = ColoredHTMLCalendar(special_days)\n",
    "\n",
    "\n",
    "HTML(html_calendar = cal.formatmonth(2024, 1))  # Replace with desired year and month\n"
   ]
  },
  {
   "cell_type": "markdown",
   "metadata": {},
   "source": [
    "## Grading and Submission Policies\n",
    "\n",
    "The grading in this course is somewhat atypical.  It is designed for a mastery-based approach where you get credit for what you've accomplished and learned.  These projects are difficult and so this course is designed with a low floor and a high ceiling.  The grading scheme helps facilitate this. \n",
    "\n",
    "There are 4+1 projects, each about three weeks long.\n",
    "\n",
    "You will get points for the parts of the project that you complete successfully, but there will be no partial credit for incorrect results. To compensate for this we are going to spend a lot of class-time + office hours trying to help you get through these projects.\n",
    "\n",
    "Grading will be done in person.  You will need to show one of the course staff your work in person and convince them it's right.  It is an important skill that you learn to determine whether your code produces the correct result. Projects will be graded during a grading office-hour.\n",
    "\n",
    "Two additional points:\n",
    "\n",
    "* It is required that you put together a document (we have a template) that shows the summary of your results.  It will mainly consist of pasted plots and output.   This is primarily to expedite and facilitate grading.  When you show us your assignment for grading, we will look through your document as well as ask you other questions/look at aspects of your code/etc.\n",
    "\n",
    "* It is required that you submit your code and document by the time of the project's deadline.  Each of you will have a separate box folder set up for you where you will place these files.\n",
    "\n",
    "The grading is not linear. Getting through $40\\%$ of the points for a project does not mean you've made it through 40% of the material for the project. Grading is designed to give you more points early on in the project.\n",
    "\n",
    "There is no late submission.\n",
    "\n",
    "We will not post solutions.\n",
    "\n",
    "Extra credit will be added to the relevant project and so is weighted the same as the given project. \n",
    "\n",
    "---\n",
    "\n",
    "### Grading Rubric\n",
    "Grades on the border are rounded up - i.e. 90% is an A.  \n",
    "\n",
    "* 100+:  A+\n",
    "* 90-100: A\n",
    "* 80-90: A-\n",
    "* 70-80: B+\n",
    "* 60-70: B\n",
    "* 50-60: B-\n",
    "* 40-50: C+\n",
    "* 35-40: C\n",
    "* 30-35: C-\n",
    "* 25-30: D+\n",
    "* 20-25: D\n",
    "* 10-20: D-\n",
    "* 0-10: F\n"
   ]
  },
  {
   "cell_type": "markdown",
   "metadata": {},
   "source": [
    "---\n",
    "---"
   ]
  },
  {
   "cell_type": "markdown",
   "metadata": {},
   "source": [
    "##  Course Staff and Office Hours\n",
    " - **Lectures:** MW 10:00-11:20am, 158 Loomis Laboratory \n",
    " - **Professor:** Bryan Clark\n",
    "    - email: bkclark@illinois.edu\n",
    "    - Office: ESB 2111\n",
    "    - Office Hours: Tuesday 1:00-2:00 \n",
    "- **Professor:** Lucas Wagner\n",
    "    - email: lkwagner@illinois.edu\n",
    "    - Office: ESB 2131\n",
    "    - Office Hours: Thu 11:00-12:00 \n",
    "- **TA:** Pin-yi Li\n",
    "    - email: pinyili2@illinois.edu\n",
    "    - Office: Beckman 3039\n",
    "    - Office Hours: Thu 2:30-3:30 Beckman 3035 [Floor Map](floormap/u0228.png)\n",
    "\n",
    "---\n",
    "---\n"
   ]
  },
  {
   "cell_type": "markdown",
   "metadata": {},
   "source": [
    "## Attendance\n",
    "\n",
    "There is no attendance required for class (although we believe that coming to class will be helpful!) That said, **please do not attend class if you are sick**. In such a case, we will work with you to make sure you get caught up. No notes for sickness, etc are required.\n",
    "\n",
    "---"
   ]
  },
  {
   "cell_type": "markdown",
   "metadata": {},
   "source": [
    "\n",
    "## Frequently asked questions\n",
    "\n",
    "\n",
    "*What is the difficulty level of this course:* This course is designed to be tractable but challenging. Place it in your mind on the same level of difficulty as other upper-level physics courses like quantum and statistical mechanics. You will spend a lot of time out of class working on assignments.\n",
    "\n",
    "*What preparation do I need for this course?* The primary requirements are a willingness to work hard and some programming experience (you will get much better at it throughout the course). Most of the physics you need to know will be introduced as needed. If you don't know a lot of quantum mechanics, there is no better way to learn than emulating a quantum computer. If you don't know statistical mechanics, you'll learn from simulating the Ising model.\n",
    "\n",
    "*Who is this course for?* Those who are interested in learning some of the coolest physics I know through a computational lens; those who want to improve their computational skills; those who are interested in mastering the art of computational physics. I think it is a good course both for those interested in going to graduate school and for those going into industry.\n",
    "\n",
    "*What this course is not?* A programming course, a numerical methods course, a software engineering course, etc. That said you will get better at programming and learn plenty of tools and techniques (git, parallel programming, machine learning, etc.).\n",
    "\n",
    "---\n",
    "\n",
    "\n",
    "\n",
    "## Collaboration and resource-use policy\n",
    "\n",
    "- You are allowed to collaborate with others but must write and submit your own work. Please write on top of your work with whom you've collaborated.\n",
    "\n",
    "- You are allowed to look things up online (including coding things). If you are using code from online, you must\n",
    "    - make sure that it is freely available to be used;\n",
    "    - document in your code when and where you are using it.\n",
    "\n",
    "- While you can look up things online, you're not allowed to directly look up an answer. So if we ask \"write code that simulates a quantum computer in python\" you're not allowed to type into google \"python code for simulating a quantum computer\" and then copy it.\n",
    "\n",
    "- You are not allowed to use github copilot or chatgpt.\n",
    "\n",
    "- Please do not post your code on a public website, such as a public github page.\n",
    "\n",
    "\n"
   ]
  },
  {
   "cell_type": "markdown",
   "metadata": {},
   "source": [
    "---"
   ]
  },
  {
   "cell_type": "markdown",
   "metadata": {},
   "source": [
    "Text and course designed by [Bryan Clark](https://clark.physics.illinois.edu)"
   ]
  },
  {
   "cell_type": "code",
   "execution_count": null,
   "metadata": {},
   "outputs": [],
   "source": []
  }
 ],
 "metadata": {
  "kernelspec": {
   "display_name": "Python 3 (ipykernel)",
   "language": "python",
   "name": "python3"
  },
  "language_info": {
   "codemirror_mode": {
    "name": "ipython",
    "version": 3
   },
   "file_extension": ".py",
   "mimetype": "text/x-python",
   "name": "python",
   "nbconvert_exporter": "python",
   "pygments_lexer": "ipython3",
   "version": "3.9.13"
  },
  "vscode": {
   "interpreter": {
    "hash": "31f2aee4e71d21fbe5cf8b01ff0e069b9275f58929596ceb00d14d90e3e16cd6"
   }
  }
 },
 "nbformat": 4,
 "nbformat_minor": 4
}
