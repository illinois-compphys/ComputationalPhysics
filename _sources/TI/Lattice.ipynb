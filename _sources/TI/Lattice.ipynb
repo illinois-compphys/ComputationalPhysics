{
 "cells": [
  {
   "cell_type": "markdown",
   "metadata": {},
   "source": [
    "# Lattices\n",
    "\n",
    "Our goal in this section is to start understanding solids.  Solids consist of atoms arranged in a periodic way.  So to understand solids we need to start by understanding periodic arangements.\n",
    "\n",
    "We will start with one-dimensional solids and then move to two-dimension.\n",
    "\n",
    "Let us start by consider two different chains of Hydrogen atoms:\n",
    "* Hydrogen Chain: all the hydrogen atoms are the same distance apart.\n",
    "* Distorted Hydrogen Chain: the hydrogen atoms have distorted themselves so they are in pairs.  This is called a [Pierls Distortion](https://en.wikipedia.org/wiki/Peierls_transition) and is a common thing for a 1d chain of atoms to do.\n",
    "\n",
    "![HChain](images/HChain.png)\n",
    "\n",
    "Now there are a couple things to notice:\n",
    "\n",
    "1. In a real solid, we should think of it essentially being infinitely long.  Our computers don't like to hold an infinite amount of information.  To best emulate this what we do is use periodic boundary conditions.  Assume we want to only hold six atoms.  Then we say that atom 6 is actually adjacent to atom 1.\n",
    "\n",
    "2.  We see that there is a chunk of the material that can be translated by $\\vec{a_1}$ and you get back the same system. We call that chunk of material the *unit cell* and $\\vec{a_1}$ the lattice vector.  In the Hydrogen chain we see that the unit cell contains one Hydrogen atom and that $\\vec{a}_1=1$ unit in the $x$ direction.  In the distorted Hydrogen chain we see that the unit cell contains two Hydrogen atoms and that $\\vec{a}_1=2$ units in the $x$ direction.\n",
    "\n",
    "3. The center of all our unit cells are at $m \\vec{a}_1$ where $m$ is an integer between 0 and $N$ (the number of unit cells).  This defines our real-space lattice.\n",
    "\n",
    "4.  We can specify the location of the atoms within the unit cell by saying how far it is displaced from the center of the unit cell.  For example, for the distorted Hydrogen lattice, this is $\\\\{ \\vec{\\tau}_0 = 0.0; \\vec{\\tau}_1 =0.8 \\\\}$  units in the $x$ direction. This set is called the basis.\n",
    "\n",
    "\n",
    "**Labeling our lattice sites:**  Now, we might want to label our hydrogen atoms.  We could label them by their position (i.e. the Hydrogen atom at spot 2.8) but that turns out to be less convenient then labeling them by (unit cell, atom number).  Then we can talk about the Hydrogen atom labelled (3,b) which is the \"b\" Hydrogen atom in the 3rd unit cell.\n",
    "\n",
    "For both the Hydrogen and distorted Hydrogen lattice, write a function\n",
    "`def Labels(N)`\n",
    "which takes the number of unit cells and returns a list of site labels.  (i.e. `myLabels = Labels(3)` should return the list `[(1,a),(1,b),(2,a),(2,b),(3,a),(3,b)]` for the distorted Hydrogen lattice)\n",
    "\n",
    "Now, each lattice site has three things:  a label, a location, and an index (i.e. which spot on the list it's in).\n",
    "It will be useful to have functions which convert between these. Write python functions (for both lattices):\n",
    "\n",
    "* `LabelToR(myLabel)`  Let the (1,1) atom be at location 0. For the distorted Hydrogen chain, LabelToR( (2,b)) should return 2.8\n",
    "* `LabelToIndex(myLabel)`\n",
    "\n",
    "<!--\n",
    "In addition, we are going to want to be able to figure out neighbors. Let's right a python function (for both lattices)\n",
    "* `MyNearestNeighbors(myLabel)` which returns a list of the labels of your nearest neighbors\n",
    "* `MyNextNearestNeighbors(myLabel)` which returns a list of the labels of your second nearest neighbors.\n",
    "-->\n",
    "\n",
    "#### Momentum Space\n",
    "\n",
    "We have a real space lattice of unit cells each of which contain some number of types of atoms.  We can also have a momentum space lattice (called the reciprocal lattice) again each of which contains some number of types of atoms (so 2 in the distorted Hydrogen lattice)\n",
    "\n",
    "The reciprocal lattice is defined (in 1d) as $m\\vec{b}_i$ where\n",
    "$0\\leq m < N$ is an integer where $N$ is the number of unit cells and $\\vec{b}_1=2\\pi/(N|\\vec{a}_1|)$  (the key property that $\\vec{b}$ must obey is that $\\vec{b}_1 \\cdot N\\vec{a}_1 = 2\\pi$).  We will have a list of labels that consist of $(m, \\textrm{ atom type})$.\n",
    "\n",
    "* Write `momentumLabels(N)` which takes the number of unit cells $N$ and generates labels for the reciprocal lattice vectors.\n",
    "* Write `momentumLabelToK(myLabel)` which takes a momentum label $(m,\\textrm{ atom type})$ and tells you the location in the reciprocal lattice which corresponds to that label.\n",
    "Notice that these are the same for the Hydrogen chain and distorted Hydrogen chain.\n"
   ]
  },
  {
   "cell_type": "markdown",
   "metadata": {},
   "source": [
    "{admonition}\n",
    "\n",
    "There are a couple of things to test.\n",
    "* Loop over your labels and use `LabelToR` to plot out all your points (you should also do this for your k-points)\n",
    "* Check `LabelToIndex` by checking for an arbitrary `label` that `myLabels[LabelToIndex(label)]==label`\n"
   ]
  },
  {
   "cell_type": "markdown",
   "metadata": {},
   "source": [
    "\n",
    "## Graphene\n",
    "\n",
    "Now we are going to move to two-dimensions and work with graphene.  Graphene is a bunch of Carbon atoms sitting on a honeycomb lattice.\n",
    "\n",
    "![graphene1](images/honeycomb2.png)\n",
    "\n",
    "Our first goal will to be again to figure out what chunk of material we can outline so that we can translate it by a certain amount and get back the same material.\n",
    "Because we are in two dimensions, actually there are two different directions that we can translate our points and get back the same configuration.\n",
    "![graphene1](images/triangle.png)\n",
    "\n",
    "Therefore, we have two lattice vectors $\\vec{a}_1=(1,0)$ and $\\vec{a}_2=(1/2,\\sqrt{3}/2)$ so that if we translate by either $\\vec{a}_1$ or $\\vec{a}_2$ (or actually any $m\\vec{a}_1 + n\\vec{a}_2$ with integers $m$ and $n$) we get back the same material. The vector $\\vec{\\tau}_1=(0,1/\\sqrt{3})$ connects an \"a\" site to a \"b\" site in the same unit cell.\n",
    "\n",
    " Notice that in this picture, we have a number of unit cells $N_1=3$ and $N_2=4$ in the $\\vec{a}_1$ and $\\vec{a}_2$ directions.\n",
    "\n",
    "Our real-space lattice can be created by taking all points of the form $m\\vec{a}_1 + n\\vec{a}_2$ for $0 \\leq m < N_1$ and $0 \\leq n < N_2$.\n",
    "\n",
    "**Labeling our lattice sites:**  Again, we'd like to label our lattice sites.  It will still be convenient to label them by the unit cell and then the atom within that unit cell. Now, to label the unit cell it's easiest to use two numbers $(p,q)$ which tells us that the unit cell we are talking about is $p$ unit cells in the $\\vec{a}_1$ direction and $q$ unit cells in the $\\vec{a}_2$ direction. We can then use an additional number to say which atom within the unit cell it is.\n",
    "\n",
    " write a function\n",
    "`def Labels(N1,N2)`\n",
    "which takes the number of unit cells $N_1$ and $N_2$ in the two directions (so $N_1N_2$ cells total)  and returns a list of site labels.\n",
    "\n",
    "Then again write functions\n",
    "* `LabelToR(myLabel)`  Let the ((1,1),a) atom be at location 0.  To check this you should just plot all the points generated by `[LabelToR(i) for i in myList]`\n",
    "* `LabelToIndex(myLabel)`  Make sure you check this too.\n",
    "\n"
   ]
  },
  {
   "cell_type": "markdown",
   "metadata": {},
   "source": [
    "#### Momentum Space\n",
    "\n",
    "The reciprocal lattice for graphene will also be two-dimensional.  We need to define $\\vec{b_1}, \\vec{b_2}$ which have the property that $\\vec{a_i} \\cdot \\vec{b_j} =\\delta_{ij} 2\\pi/N_i$  This will give us $\\vec{b}_1=(1,-\\frac{1}{\\sqrt{3}}) \\frac{2\\pi}{N_1}$ and $\\vec{b}_2=(0,\\frac{2}{\\sqrt{3}})\\frac{2\\pi}{N_2}$.  Then we can define our reciprocal lattice as all points $m\\vec{b}_1 + n\\vec{b_2}$ where $0 \\leq m < N_1$ and $0 \\leq n < N_2$ are integers.  Like the real space lattice, we will label the momentum lattice sites by the tuple $((m,n), \\textrm{ atom type })$\n",
    "\n",
    "* Write `momentumLabels(N)` which takes the number of unit cells $N$ and generates labels for the reciprocal lattice vectors.\n",
    "* Write `momentumLabelToK(myLabel)` which takes a momentum label and tells you the location in the reciprocal lattice which corresponds to that label.\n",
    "![BrillouinZone](images/BrilloinZone.png)\n",
    "\n",
    "This is what my Brillouin zone looks like for 9x9.\n"
   ]
  },
  {
   "cell_type": "markdown",
   "metadata": {},
   "source": [
    ":::{admonition} Testing\n",
    ":class: caution\n",
    "\n",
    "There are a couple of things to test.\n",
    "* Loop over your labels and use `LabelToR` to plot out all your points (you should also do this for your k-points)\n",
    "* Check `LabelToIndex` by checking for an arbitrary `label` that `myLabels[LabelToIndex(label)]==label`"
   ]
  },
  {
   "cell_type": "markdown",
   "metadata": {},
   "source": [
    ":::{admonition} Tangeant: First Brillouin Zone\n",
    ":class: tip\n",
    "\n",
    "Like the real space lattice, the $k$-points are periodic.  All points in the set $\\{ \\vec{k}+i \\vec{b}_1 N_1 + j \\vec{b}_2 N_2 \\}$ for all integers $(i,j)$ are equivalent.   Therefore, we could choose any $k$ point from each equivalent set.  There is a special Brillouin zone where you choose, from each set of equivalent k-points, the one closest to the origin. This is called the first Brillouin zone.\n",
    "\n",
    "This is what I get for the first Brillouin zone:\n",
    "\n",
    "![](images/FirstBrilloinZone.png)\n",
    "\n",
    ":::"
   ]
  },
  {
   "cell_type": "code",
   "execution_count": null,
   "metadata": {},
   "outputs": [],
   "source": []
  }
 ],
 "metadata": {
  "kernelspec": {
   "display_name": "Python 3 (ipykernel)",
   "language": "python",
   "name": "python3"
  },
  "language_info": {
   "codemirror_mode": {
    "name": "ipython",
    "version": 3
   },
   "file_extension": ".py",
   "mimetype": "text/x-python",
   "name": "python",
   "nbconvert_exporter": "python",
   "pygments_lexer": "ipython3",
   "version": "3.7.3"
  }
 },
 "nbformat": 4,
 "nbformat_minor": 4
}
